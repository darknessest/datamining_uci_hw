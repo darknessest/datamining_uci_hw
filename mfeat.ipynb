{
 "cells": [
  {
   "cell_type": "markdown",
   "metadata": {},
   "source": [
    "# mfeat"
   ]
  },
  {
   "cell_type": "code",
   "execution_count": 1,
   "metadata": {},
   "outputs": [],
   "source": [
    "import os\n",
    "import pandas as pd\n",
    "import numpy as np\n",
    "\n",
    "%matplotlib inline\n",
    "import matplotlib as mpl\n",
    "import matplotlib.pyplot as plt"
   ]
  },
  {
   "cell_type": "markdown",
   "metadata": {},
   "source": [
    "## Import dataset\n",
    "### 1. mfeat-mor-left"
   ]
  },
  {
   "cell_type": "code",
   "execution_count": 2,
   "metadata": {},
   "outputs": [],
   "source": [
    "path_to_data = os.path.join(\"UCI_datasets\", \"mfeat\", 'mfeat-mor-left')"
   ]
  },
  {
   "cell_type": "markdown",
   "metadata": {},
   "source": [
    "Reading each data file line by line"
   ]
  },
  {
   "cell_type": "code",
   "execution_count": 3,
   "metadata": {},
   "outputs": [],
   "source": [
    "with open(path_to_data) as f:\n",
    "    lines = [line.rstrip() for line in f]"
   ]
  },
  {
   "cell_type": "code",
   "execution_count": 4,
   "metadata": {},
   "outputs": [],
   "source": [
    "mor_table = pd.DataFrame(columns=['class','mor1', 'mor2', 'mor3', 'mor4', 'mor5', 'mor6'])"
   ]
  },
  {
   "cell_type": "code",
   "execution_count": 5,
   "metadata": {},
   "outputs": [],
   "source": [
    "for line in lines:\n",
    "    temp_df = pd.DataFrame([[float(x) for x in line.split()]], columns=['mor1', 'mor2', 'mor3', 'mor4', 'mor5', 'mor6'])\n",
    "    mor_table = mor_table.append(temp_df, ignore_index = True)"
   ]
  },
  {
   "cell_type": "code",
   "execution_count": 6,
   "metadata": {},
   "outputs": [],
   "source": [
    "x = 0\n",
    "while x <= 1600:\n",
    "    a = x\n",
    "    x += 160\n",
    "    b = x\n",
    "    mor_table.iloc[a:b,[0]] = x/160 - 1"
   ]
  },
  {
   "cell_type": "code",
   "execution_count": 7,
   "metadata": {},
   "outputs": [
    {
     "data": {
      "text/plain": [
       "9.0    160\n",
       "8.0    160\n",
       "7.0    160\n",
       "6.0    160\n",
       "5.0    160\n",
       "4.0    160\n",
       "3.0    160\n",
       "2.0    160\n",
       "1.0    160\n",
       "0.0    160\n",
       "Name: class, dtype: int64"
      ]
     },
     "execution_count": 7,
     "metadata": {},
     "output_type": "execute_result"
    }
   ],
   "source": [
    "mor_table['class'].value_counts()"
   ]
  },
  {
   "cell_type": "code",
   "execution_count": 8,
   "metadata": {},
   "outputs": [],
   "source": [
    "mor_table = mor_table.astype({\n",
    "    'class' : 'int8',    # category\n",
    "#     'mor1': np.float32,\n",
    "#     'mor2': np.float32,\n",
    "#     'mor3': np.float32,\n",
    "#     'mor4': np.float32,\n",
    "#     'mor5': np.float32,\n",
    "#     'mor6': np.float32\n",
    "    })"
   ]
  },
  {
   "cell_type": "code",
   "execution_count": 9,
   "metadata": {},
   "outputs": [
    {
     "data": {
      "text/html": [
       "<div>\n",
       "<style scoped>\n",
       "    .dataframe tbody tr th:only-of-type {\n",
       "        vertical-align: middle;\n",
       "    }\n",
       "\n",
       "    .dataframe tbody tr th {\n",
       "        vertical-align: top;\n",
       "    }\n",
       "\n",
       "    .dataframe thead th {\n",
       "        text-align: right;\n",
       "    }\n",
       "</style>\n",
       "<table border=\"1\" class=\"dataframe\">\n",
       "  <thead>\n",
       "    <tr style=\"text-align: right;\">\n",
       "      <th></th>\n",
       "      <th>class</th>\n",
       "      <th>mor1</th>\n",
       "      <th>mor2</th>\n",
       "      <th>mor3</th>\n",
       "      <th>mor4</th>\n",
       "      <th>mor5</th>\n",
       "      <th>mor6</th>\n",
       "    </tr>\n",
       "  </thead>\n",
       "  <tbody>\n",
       "    <tr>\n",
       "      <th>0</th>\n",
       "      <td>0</td>\n",
       "      <td>1.0</td>\n",
       "      <td>0.0</td>\n",
       "      <td>0.0</td>\n",
       "      <td>133.150861</td>\n",
       "      <td>1.311693</td>\n",
       "      <td>1620.221779</td>\n",
       "    </tr>\n",
       "    <tr>\n",
       "      <th>1</th>\n",
       "      <td>0</td>\n",
       "      <td>1.0</td>\n",
       "      <td>0.0</td>\n",
       "      <td>0.0</td>\n",
       "      <td>126.724861</td>\n",
       "      <td>1.302745</td>\n",
       "      <td>1609.334822</td>\n",
       "    </tr>\n",
       "    <tr>\n",
       "      <th>2</th>\n",
       "      <td>0</td>\n",
       "      <td>1.0</td>\n",
       "      <td>0.0</td>\n",
       "      <td>0.0</td>\n",
       "      <td>131.173861</td>\n",
       "      <td>1.319031</td>\n",
       "      <td>1568.978435</td>\n",
       "    </tr>\n",
       "    <tr>\n",
       "      <th>3</th>\n",
       "      <td>0</td>\n",
       "      <td>1.0</td>\n",
       "      <td>0.0</td>\n",
       "      <td>0.0</td>\n",
       "      <td>127.262861</td>\n",
       "      <td>1.329637</td>\n",
       "      <td>1647.720235</td>\n",
       "    </tr>\n",
       "    <tr>\n",
       "      <th>4</th>\n",
       "      <td>0</td>\n",
       "      <td>1.0</td>\n",
       "      <td>0.0</td>\n",
       "      <td>0.0</td>\n",
       "      <td>138.442861</td>\n",
       "      <td>1.379906</td>\n",
       "      <td>1918.750472</td>\n",
       "    </tr>\n",
       "  </tbody>\n",
       "</table>\n",
       "</div>"
      ],
      "text/plain": [
       "   class  mor1  mor2  mor3        mor4      mor5         mor6\n",
       "0      0   1.0   0.0   0.0  133.150861  1.311693  1620.221779\n",
       "1      0   1.0   0.0   0.0  126.724861  1.302745  1609.334822\n",
       "2      0   1.0   0.0   0.0  131.173861  1.319031  1568.978435\n",
       "3      0   1.0   0.0   0.0  127.262861  1.329637  1647.720235\n",
       "4      0   1.0   0.0   0.0  138.442861  1.379906  1918.750472"
      ]
     },
     "execution_count": 9,
     "metadata": {},
     "output_type": "execute_result"
    }
   ],
   "source": [
    "mor_table.head()"
   ]
  },
  {
   "cell_type": "markdown",
   "metadata": {},
   "source": [
    "### 2. mfeat-zer-left"
   ]
  },
  {
   "cell_type": "code",
   "execution_count": 10,
   "metadata": {},
   "outputs": [],
   "source": [
    "path_to_data = os.path.join(\"UCI_datasets\", \"mfeat\", 'mfeat-zer-left')"
   ]
  },
  {
   "cell_type": "markdown",
   "metadata": {},
   "source": [
    "Reading each data file line by line"
   ]
  },
  {
   "cell_type": "code",
   "execution_count": 11,
   "metadata": {},
   "outputs": [],
   "source": [
    "with open(path_to_data) as f:\n",
    "    lines = [line.rstrip() for line in f]"
   ]
  },
  {
   "cell_type": "code",
   "execution_count": 12,
   "metadata": {},
   "outputs": [],
   "source": [
    "cols = []\n",
    "for no in range(1, 48):\n",
    "    cols.append('zer'+str(no))"
   ]
  },
  {
   "cell_type": "code",
   "execution_count": 13,
   "metadata": {},
   "outputs": [],
   "source": [
    "zer_table = pd.DataFrame(columns=cols)"
   ]
  },
  {
   "cell_type": "code",
   "execution_count": 14,
   "metadata": {},
   "outputs": [],
   "source": [
    "for line in lines:\n",
    "    temp_df = pd.DataFrame([[float(x) for x in line.split()]], columns=cols)\n",
    "    zer_table = zer_table.append(temp_df, ignore_index = True)"
   ]
  },
  {
   "cell_type": "code",
   "execution_count": 15,
   "metadata": {},
   "outputs": [],
   "source": [
    "zer_table['class'] = pd.Series(0)"
   ]
  },
  {
   "cell_type": "code",
   "execution_count": 16,
   "metadata": {},
   "outputs": [],
   "source": [
    "x = 0\n",
    "while x <= 1600:\n",
    "    a = x\n",
    "    x += 160\n",
    "    b = x\n",
    "    zer_table.iloc[a:b,[47]] = x/160 - 1"
   ]
  },
  {
   "cell_type": "code",
   "execution_count": 17,
   "metadata": {},
   "outputs": [],
   "source": [
    "zer_table = zer_table.astype({'class' : 'int8'})"
   ]
  },
  {
   "cell_type": "code",
   "execution_count": 18,
   "metadata": {},
   "outputs": [
    {
     "data": {
      "text/plain": [
       "9    160\n",
       "8    160\n",
       "7    160\n",
       "6    160\n",
       "5    160\n",
       "4    160\n",
       "3    160\n",
       "2    160\n",
       "1    160\n",
       "0    160\n",
       "Name: class, dtype: int64"
      ]
     },
     "execution_count": 18,
     "metadata": {},
     "output_type": "execute_result"
    }
   ],
   "source": [
    "zer_table['class'].value_counts()"
   ]
  },
  {
   "cell_type": "markdown",
   "metadata": {},
   "source": [
    "### 3. mfeat-zer-left"
   ]
  },
  {
   "cell_type": "code",
   "execution_count": 19,
   "metadata": {},
   "outputs": [],
   "source": [
    "path_to_data = os.path.join(\"UCI_datasets\", \"mfeat\", 'mfeat-pix-left')"
   ]
  },
  {
   "cell_type": "markdown",
   "metadata": {},
   "source": [
    "Reading each data file line by line"
   ]
  },
  {
   "cell_type": "code",
   "execution_count": 20,
   "metadata": {},
   "outputs": [],
   "source": [
    "with open(path_to_data) as f:\n",
    "    lines = [line.rstrip() for line in f]"
   ]
  },
  {
   "cell_type": "code",
   "execution_count": 21,
   "metadata": {},
   "outputs": [],
   "source": [
    "cols = []\n",
    "for no in range(1, 241):\n",
    "    cols.append('zer'+str(no))"
   ]
  },
  {
   "cell_type": "code",
   "execution_count": 22,
   "metadata": {},
   "outputs": [],
   "source": [
    "pix_table = pd.DataFrame(columns=cols)"
   ]
  },
  {
   "cell_type": "code",
   "execution_count": 23,
   "metadata": {},
   "outputs": [],
   "source": [
    "for line in lines:\n",
    "    temp_df = pd.DataFrame([[float(x) for x in line.split()]], columns=cols)\n",
    "    pix_table = pix_table.append(temp_df, ignore_index = True)"
   ]
  },
  {
   "cell_type": "code",
   "execution_count": 24,
   "metadata": {},
   "outputs": [],
   "source": [
    "pix_table['class'] = pd.Series(0)"
   ]
  },
  {
   "cell_type": "code",
   "execution_count": 25,
   "metadata": {},
   "outputs": [],
   "source": [
    "x = 0\n",
    "while x <= 1600:\n",
    "    a = x\n",
    "    x += 160\n",
    "    b = x\n",
    "    pix_table.iloc[a:b,[240]] = x/160 - 1"
   ]
  },
  {
   "cell_type": "code",
   "execution_count": 28,
   "metadata": {},
   "outputs": [],
   "source": [
    "pix_table = pix_table.astype('int8')"
   ]
  },
  {
   "cell_type": "code",
   "execution_count": 30,
   "metadata": {},
   "outputs": [
    {
     "name": "stdout",
     "output_type": "stream",
     "text": [
      "<class 'pandas.core.frame.DataFrame'>\n",
      "RangeIndex: 1600 entries, 0 to 1599\n",
      "Columns: 241 entries, zer1 to class\n",
      "dtypes: int8(241)\n",
      "memory usage: 376.7 KB\n"
     ]
    }
   ],
   "source": [
    "pix_table.info()"
   ]
  },
  {
   "cell_type": "markdown",
   "metadata": {},
   "source": [
    "creating numpy array for image"
   ]
  },
  {
   "cell_type": "code",
   "execution_count": 93,
   "metadata": {},
   "outputs": [],
   "source": [
    "x = 0\n",
    "img = np.zeros((16, 15))\n",
    "i = 0 \n",
    "while x < 240:\n",
    "    a = x\n",
    "    x += 15\n",
    "    b = x   \n",
    "    img[i] = pix_table.iloc[369,a:b].values\n",
    "    i += 1"
   ]
  },
  {
   "cell_type": "markdown",
   "metadata": {},
   "source": [
    "## Data visualization"
   ]
  },
  {
   "cell_type": "code",
   "execution_count": 94,
   "metadata": {},
   "outputs": [
    {
     "data": {
      "text/plain": [
       "array([[0., 1., 4., 5., 6., 6., 6., 6., 5., 3., 3., 3., 0., 0., 0.],\n",
       "       [1., 6., 6., 6., 6., 6., 6., 6., 6., 6., 6., 6., 5., 1., 0.],\n",
       "       [3., 6., 6., 6., 5., 2., 2., 4., 6., 6., 6., 6., 6., 5., 1.],\n",
       "       [5., 6., 6., 6., 3., 0., 0., 0., 0., 1., 5., 6., 6., 6., 5.],\n",
       "       [6., 6., 6., 6., 2., 0., 0., 0., 0., 0., 3., 6., 6., 6., 6.],\n",
       "       [4., 6., 6., 3., 0., 0., 0., 0., 0., 0., 3., 6., 6., 6., 5.],\n",
       "       [1., 4., 3., 0., 0., 0., 0., 0., 0., 1., 5., 6., 6., 4., 0.],\n",
       "       [0., 0., 0., 0., 0., 0., 0., 1., 3., 6., 6., 6., 5., 1., 0.],\n",
       "       [0., 0., 0., 0., 0., 0., 3., 6., 6., 6., 6., 3., 0., 0., 0.],\n",
       "       [0., 0., 0., 2., 4., 6., 6., 6., 6., 3., 1., 0., 0., 0., 0.],\n",
       "       [0., 1., 5., 6., 6., 6., 6., 5., 1., 0., 0., 0., 0., 0., 0.],\n",
       "       [2., 6., 6., 6., 6., 6., 3., 0., 0., 0., 0., 0., 0., 0., 0.],\n",
       "       [5., 6., 6., 6., 6., 3., 0., 0., 0., 0., 0., 0., 0., 0., 0.],\n",
       "       [6., 6., 6., 6., 6., 6., 4., 2., 2., 2., 2., 2., 2., 1., 0.],\n",
       "       [6., 6., 6., 6., 6., 6., 6., 6., 6., 6., 6., 6., 6., 2., 0.],\n",
       "       [1., 3., 4., 4., 4., 4., 4., 4., 4., 4., 3., 2., 0., 0., 0.]])"
      ]
     },
     "execution_count": 94,
     "metadata": {},
     "output_type": "execute_result"
    }
   ],
   "source": [
    "img"
   ]
  },
  {
   "cell_type": "code",
   "execution_count": 95,
   "metadata": {},
   "outputs": [
    {
     "data": {
      "text/plain": [
       "<matplotlib.image.AxesImage at 0x12cda7bb0>"
      ]
     },
     "execution_count": 95,
     "metadata": {},
     "output_type": "execute_result"
    },
    {
     "data": {
      "image/png": "[encoded data removed]",
      "text/plain": [
       "<Figure size 360x360 with 1 Axes>"
      ]
     },
     "metadata": {
      "needs_background": "light"
     },
     "output_type": "display_data"
    }
   ],
   "source": [
    "fig = plt.figure(figsize=(5, 5))\n",
    "ax = fig.add_subplot(111)\n",
    "\n",
    "plt.imshow(img)\n"
   ]
  },
  {
   "cell_type": "markdown",
   "metadata": {},
   "source": [
    "### Train model"
   ]
  },
  {
   "cell_type": "code",
   "execution_count": null,
   "metadata": {},
   "outputs": [],
   "source": []
  },
  {
   "cell_type": "markdown",
   "metadata": {},
   "source": [
    "### Model evaluation "
   ]
  },
  {
   "cell_type": "code",
   "execution_count": null,
   "metadata": {},
   "outputs": [],
   "source": []
  }
 ],
 "metadata": {
  "kernelspec": {
   "display_name": "data_mining",
   "language": "python",
   "name": "data_mining"
  },
  "language_info": {
   "codemirror_mode": {
    "name": "ipython",
    "version": 3
   },
   "file_extension": ".py",
   "mimetype": "text/x-python",
   "name": "python",
   "nbconvert_exporter": "python",
   "pygments_lexer": "ipython3",
   "version": "3.8.2"
  }
 },
 "nbformat": 4,
 "nbformat_minor": 4
}
