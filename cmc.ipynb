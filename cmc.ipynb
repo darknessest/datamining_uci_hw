{
 "cells": [
  {
   "cell_type": "markdown",
   "metadata": {},
   "source": [
    "# Contraceptive Method Choice"
   ]
  },
  {
   "cell_type": "code",
   "execution_count": 12,
   "metadata": {},
   "outputs": [],
   "source": [
    "import os\n",
    "import pandas as pd\n",
    "import numpy as np\n",
    "\n",
    "%matplotlib inline\n",
    "import matplotlib as mpl\n",
    "import matplotlib.pyplot as plt"
   ]
  },
  {
   "cell_type": "markdown",
   "metadata": {},
   "source": [
    "## Import dataset\n",
    "\n",
    "**original dataset info**\n",
    "\n",
    "   1. Wife's age                     (numerical)\n",
    "   2. Wife's education               (categorical)      1=low, 2, 3, 4=high\n",
    "   3. Husband's education            (categorical)      1=low, 2, 3, 4=high\n",
    "   4. Number of children ever born   (numerical)\n",
    "   5. Wife's religion                (binary)           0=Non-Islam, 1=Islam\n",
    "   6. Wife's now working?            (binary)           0=Yes, 1=No\n",
    "   7. Husband's occupation           (categorical)      1, 2, 3, 4\n",
    "   8. Standard-of-living index       (categorical)      1=low, 2, 3, 4=high\n",
    "   9. Media exposure                 (binary)           0=Good, 1=Not good\n",
    "   10. Contraceptive method used     (class attribute)  1=No-use, 2=Long-term, 3=Short-term **<=**\n",
    "   \n",
    "**_Notes_**\n",
    "- Column #10 is to be predicted.\n",
    "- I'm going to change columns names and invert some of the values, as they don't correspond to common notation (e.g. #5,6,9)"
   ]
  },
  {
   "cell_type": "code",
   "execution_count": 3,
   "metadata": {
    "pycharm": {
     "is_executing": false
    }
   },
   "outputs": [],
   "source": [
    "path_to_data_set = os.path.join(\"UCI_datasets\", \"cmc\", \"cmc.data\")\n",
    "\n",
    "names = {\n",
    "    \"W_AGE\"                  : 'int8',\n",
    "    \"W_EDU\"                  : 'category',\n",
    "    \"H_EDU\"                  : 'category',\n",
    "    \"NUM_CHILDREN\"           : 'int8',\n",
    "    \"W_ISLAM\"                : 'bool',\n",
    "    \"W_WORKING\"              : 'bool',\n",
    "    \"H_JOB\"                  : 'category',\n",
    "    \"SOL\"                    : 'category',\n",
    "    \"BAD_MEDIA\"              : 'bool',\n",
    "    \"CONT_USAGE\"             : 'category'\n",
    "}\n",
    "\n",
    "table = pd.read_table(path_to_data_set, delimiter=\",\",  \n",
    "                      header=None, index_col=False, \n",
    "                      names=names.keys(),\n",
    "                      dtype=names,\n",
    "                      engine='python'\n",
    "                     )"
   ]
  },
  {
   "cell_type": "code",
   "execution_count": 4,
   "metadata": {
    "collapsed": false,
    "jupyter": {
     "outputs_hidden": false
    },
    "pycharm": {
     "name": "#%%\n"
    }
   },
   "outputs": [
    {
     "data": {
      "text/html": [
       "<div>\n",
       "<style scoped>\n",
       "    .dataframe tbody tr th:only-of-type {\n",
       "        vertical-align: middle;\n",
       "    }\n",
       "\n",
       "    .dataframe tbody tr th {\n",
       "        vertical-align: top;\n",
       "    }\n",
       "\n",
       "    .dataframe thead th {\n",
       "        text-align: right;\n",
       "    }\n",
       "</style>\n",
       "<table border=\"1\" class=\"dataframe\">\n",
       "  <thead>\n",
       "    <tr style=\"text-align: right;\">\n",
       "      <th></th>\n",
       "      <th>W_AGE</th>\n",
       "      <th>W_EDU</th>\n",
       "      <th>H_EDU</th>\n",
       "      <th>NUM_CHILDREN</th>\n",
       "      <th>W_ISLAM</th>\n",
       "      <th>W_WORKING</th>\n",
       "      <th>H_JOB</th>\n",
       "      <th>SOL</th>\n",
       "      <th>BAD_MEDIA</th>\n",
       "      <th>CONT_USAGE</th>\n",
       "    </tr>\n",
       "  </thead>\n",
       "  <tbody>\n",
       "    <tr>\n",
       "      <th>0</th>\n",
       "      <td>24</td>\n",
       "      <td>2</td>\n",
       "      <td>3</td>\n",
       "      <td>3</td>\n",
       "      <td>True</td>\n",
       "      <td>True</td>\n",
       "      <td>2</td>\n",
       "      <td>3</td>\n",
       "      <td>False</td>\n",
       "      <td>1</td>\n",
       "    </tr>\n",
       "    <tr>\n",
       "      <th>1</th>\n",
       "      <td>45</td>\n",
       "      <td>1</td>\n",
       "      <td>3</td>\n",
       "      <td>10</td>\n",
       "      <td>True</td>\n",
       "      <td>True</td>\n",
       "      <td>3</td>\n",
       "      <td>4</td>\n",
       "      <td>False</td>\n",
       "      <td>1</td>\n",
       "    </tr>\n",
       "    <tr>\n",
       "      <th>2</th>\n",
       "      <td>43</td>\n",
       "      <td>2</td>\n",
       "      <td>3</td>\n",
       "      <td>7</td>\n",
       "      <td>True</td>\n",
       "      <td>True</td>\n",
       "      <td>3</td>\n",
       "      <td>4</td>\n",
       "      <td>False</td>\n",
       "      <td>1</td>\n",
       "    </tr>\n",
       "    <tr>\n",
       "      <th>3</th>\n",
       "      <td>42</td>\n",
       "      <td>3</td>\n",
       "      <td>2</td>\n",
       "      <td>9</td>\n",
       "      <td>True</td>\n",
       "      <td>True</td>\n",
       "      <td>3</td>\n",
       "      <td>3</td>\n",
       "      <td>False</td>\n",
       "      <td>1</td>\n",
       "    </tr>\n",
       "    <tr>\n",
       "      <th>4</th>\n",
       "      <td>36</td>\n",
       "      <td>3</td>\n",
       "      <td>3</td>\n",
       "      <td>8</td>\n",
       "      <td>True</td>\n",
       "      <td>True</td>\n",
       "      <td>3</td>\n",
       "      <td>2</td>\n",
       "      <td>False</td>\n",
       "      <td>1</td>\n",
       "    </tr>\n",
       "  </tbody>\n",
       "</table>\n",
       "</div>"
      ],
      "text/plain": [
       "   W_AGE W_EDU H_EDU  NUM_CHILDREN  W_ISLAM  W_WORKING H_JOB SOL  BAD_MEDIA  \\\n",
       "0     24     2     3             3     True       True     2   3      False   \n",
       "1     45     1     3            10     True       True     3   4      False   \n",
       "2     43     2     3             7     True       True     3   4      False   \n",
       "3     42     3     2             9     True       True     3   3      False   \n",
       "4     36     3     3             8     True       True     3   2      False   \n",
       "\n",
       "  CONT_USAGE  \n",
       "0          1  \n",
       "1          1  \n",
       "2          1  \n",
       "3          1  \n",
       "4          1  "
      ]
     },
     "execution_count": 4,
     "metadata": {},
     "output_type": "execute_result"
    }
   ],
   "source": [
    "table.head()"
   ]
  },
  {
   "cell_type": "markdown",
   "metadata": {},
   "source": [
    "inverting values of columns"
   ]
  },
  {
   "cell_type": "code",
   "execution_count": 5,
   "metadata": {},
   "outputs": [],
   "source": [
    "table[\"W_WORKING\"] = table[\"W_WORKING\"].apply(lambda x: not x)\n",
    "# table[\"W_ISLAM\"] = table[\"W_ISLAM\"].apply(lambda x: not x)"
   ]
  },
  {
   "cell_type": "markdown",
   "metadata": {
    "pycharm": {
     "name": "#%% md\n"
    }
   },
   "source": [
    "### Data visualization"
   ]
  },
  {
   "cell_type": "markdown",
   "metadata": {
    "pycharm": {
     "name": "#%% md\n"
    }
   },
   "source": [
    "#### Unique values"
   ]
  },
  {
   "cell_type": "code",
   "execution_count": 6,
   "metadata": {
    "pycharm": {
     "name": "#%%\n"
    }
   },
   "outputs": [
    {
     "name": "stdout",
     "output_type": "stream",
     "text": [
      "W_AGE\n",
      "[24 45 43 42 36 19 38 21 27 44 26 48 39 37 46 40 29 31 33 25 28 47 32 49\n",
      " 34 20 22 30 23 35 41 17 18 16]\n",
      "W_EDU\n",
      "[2, 1, 3, 4]\n",
      "Categories (4, object): [2, 1, 3, 4]\n",
      "H_EDU\n",
      "[3, 2, 4, 1]\n",
      "Categories (4, object): [3, 2, 4, 1]\n",
      "NUM_CHILDREN\n",
      "[ 3 10  7  9  8  0  6  1  2  4  5 12 11 13 16]\n",
      "W_ISLAM\n",
      "[ True False]\n",
      "W_WORKING\n",
      "[False  True]\n",
      "H_JOB\n",
      "[2, 3, 1, 4]\n",
      "Categories (4, object): [2, 3, 1, 4]\n",
      "SOL\n",
      "[3, 4, 2, 1]\n",
      "Categories (4, object): [3, 4, 2, 1]\n",
      "BAD_MEDIA\n",
      "[False  True]\n",
      "CONT_USAGE\n",
      "[1, 2, 3]\n",
      "Categories (3, object): [1, 2, 3]\n"
     ]
    }
   ],
   "source": [
    "for x in table.columns:\n",
    "    print(x)\n",
    "    print(table[x].unique())"
   ]
  },
  {
   "cell_type": "markdown",
   "metadata": {
    "pycharm": {
     "name": "#%% md\n"
    }
   },
   "source": [
    "#### Correlation matrix\n",
    "It's only available for numeric values, but still worthy to have a look"
   ]
  },
  {
   "cell_type": "code",
   "execution_count": 24,
   "metadata": {
    "pycharm": {
     "name": "#%%\n"
    }
   },
   "outputs": [],
   "source": [
    "corr_matrix = table.corr().round(2)"
   ]
  },
  {
   "cell_type": "code",
   "execution_count": 32,
   "metadata": {},
   "outputs": [
    {
     "data": {
      "image/png": "[encoded data removed]",
      "text/plain": [
       "<Figure size 432x288 with 2 Axes>"
      ]
     },
     "metadata": {
      "needs_background": "light"
     },
     "output_type": "display_data"
    }
   ],
   "source": [
    "ig, ax = plt.subplots()\n",
    "im = ax.imshow(corr_matrix, cmap='summer')\n",
    "im.set_clim(-1, 1)\n",
    "ax.grid(False)\n",
    "# ax.xaxis.set(ticks=(0, 1, 2), ticklabels=('x', 'y', 'z'))\n",
    "# ax.yaxis.set(ticks=(0, 1, 2), ticklabels=('x', 'y', 'z'))\n",
    "# ax.set_ylim(2.5, -0.5)\n",
    "for i in range(5):\n",
    "    for j in range(5):\n",
    "        ax.text(j, i, corr_matrix.iloc[i, j], ha='center', va='center', color='r')\n",
    "cbar = ax.figure.colorbar(im, ax=ax, format='% .2f')\n",
    "plt.show()"
   ]
  },
  {
   "cell_type": "markdown",
   "metadata": {},
   "source": [
    "## Train model"
   ]
  },
  {
   "cell_type": "code",
   "execution_count": null,
   "metadata": {},
   "outputs": [],
   "source": []
  },
  {
   "cell_type": "markdown",
   "source": [
    "## Model evaluation "
   ],
   "metadata": {
    "collapsed": false
   }
  },
  {
   "cell_type": "markdown",
   "source": [
    "### Comparing trained models"
   ],
   "metadata": {
    "collapsed": false
   }
  },
  {
   "cell_type": "markdown",
   "source": [
    "`macro` is necessary for multilable classifiers"
   ],
   "metadata": {
    "collapsed": false
   }
  },
  {
   "cell_type": "code",
   "execution_count": null,
   "outputs": [],
   "source": [
    "from sklearn.metrics import f1_score, precision_score, recall_score, accuracy_score\n",
    "from sklearn.model_selection import cross_val_predict\n",
    "\n",
    "def metrics(clf, X, Y, t_x, t_y):\n",
    "    pred = cross_val_predict(clf, X, Y, cv=3)\n",
    "    y_pred = clf.predict(t_x)\n",
    "    \n",
    "    print('Accuracy on test set: {}'.format(accuracy_score(t_y, y_pred)))\n",
    "    print('F1: {}'.format(f1_score(Y, pred, average=\"macro\")))\n",
    "    print('Precision: {}'.format(precision_score(Y, pred, average=\"macro\")))\n",
    "    print('Recall: {}'.format(recall_score(Y, pred, average=\"macro\")))"
   ],
   "metadata": {
    "collapsed": false,
    "pycharm": {
     "name": "#%%\n"
    }
   }
  },
  {
   "cell_type": "markdown",
   "source": [
    "### ROC curves"
   ],
   "metadata": {
    "collapsed": false
   }
  },
  {
   "cell_type": "code",
   "execution_count": null,
   "outputs": [],
   "source": [
    "\n",
    "\n",
    "def plot_roc_curve(fpr, tpr, label=None):\n",
    "    plt.plot(fpr, tpr, linewidth=2, label=label)\n",
    "    plt.plot([0, 1], [0, 1], 'k--') # dashed diagonal\n",
    "    plt.axis([0, 1, 0, 1])                                    \n",
    "    plt.xlabel('False Positive Rate (Fall-Out)', fontsize=16) \n",
    "    plt.ylabel('True Positive Rate (Recall)', fontsize=16)    \n",
    "    plt.grid(True)                                            "
   ],
   "metadata": {
    "collapsed": false,
    "pycharm": {
     "name": "#%%\n"
    }
   }
  },
  {
   "cell_type": "code",
   "execution_count": null,
   "outputs": [],
   "source": [
    "from sklearn.metrics import roc_curve\n",
    "\n",
    "plt.figure(figsize=(8, 6))\n",
    "\n",
    "knn_y_scores = cross_val_predict(knn_clf1, X_train, y_train, cv=3)\n",
    "fpr, tpr, thresholds = roc_curve(y_train, knn_y_scores)\n",
    "plot_roc_curve(fpr, tpr, label='KNN')\n",
    "\n",
    "gnb_y_scores = cross_val_predict(gnb_clf1, X_train, y_train, cv=3)\n",
    "fpr, tpr, thresholds = roc_curve(y_train, gnb_y_scores)\n",
    "plot_roc_curve(fpr, tpr, label='Bayesian')\n",
    "\n",
    "tree_y_scores = cross_val_predict(tree_clf1, X_train, y_train, cv=3)\n",
    "fpr, tpr, thresholds = roc_curve(y_train, tree_y_scores)\n",
    "plot_roc_curve(fpr, tpr, label='Tree')\n",
    "\n",
    "plt.legend(loc=\"lower right\", fontsize=16)\n",
    "\n",
    "plt.show()"
   ],
   "metadata": {
    "collapsed": false,
    "pycharm": {
     "name": "#%%\n"
    }
   }
  },
  {
   "cell_type": "markdown",
   "metadata": {},
   "source": [
    "from sklearn.metrics import roc_curve\n",
    "\n",
    "plt.figure(figsize=(8, 6))\n",
    "\n",
    "knn_y_scores = cross_val_predict(knn_clf1, X_train, y_train, cv=3)\n",
    "fpr, tpr, thresholds = roc_curve(y_train, knn_y_scores)\n",
    "plot_roc_curve(fpr, tpr, label='KNN')\n",
    "\n",
    "gnb_y_scores = cross_val_predict(gnb_clf1, X_train, y_train, cv=3)\n",
    "fpr, tpr, thresholds = roc_curve(y_train, gnb_y_scores)\n",
    "plot_roc_curve(fpr, tpr, label='Bayesian')\n",
    "\n",
    "tree_y_scores = cross_val_predict(tree_clf1, X_train, y_train, cv=3)\n",
    "fpr, tpr, thresholds = roc_curve(y_train, tree_y_scores)\n",
    "plot_roc_curve(fpr, tpr, label='Tree')\n",
    "\n",
    "plt.legend(loc=\"lower right\", fontsize=16)\n",
    "\n",
    "plt.show()"
   ]
  },
  {
   "cell_type": "markdown",
   "metadata": {},
   "source": [
    "### Comparing trained models"
   ]
  },
  {
   "cell_type": "markdown",
   "metadata": {},
   "source": [
    "`macro` is necessary for multilable classifiers"
   ]
  },
  {
   "cell_type": "code",
   "execution_count": 9,
   "metadata": {},
   "outputs": [],
   "source": [
    "from sklearn.metrics import f1_score, precision_score, recall_score, accuracy_score\n",
    "from sklearn.model_selection import cross_val_predict\n",
    "\n",
    "def metrics(clf, X, Y, t_x, t_y):\n",
    "    pred = cross_val_predict(clf, X, Y, cv=3)\n",
    "    y_pred = clf.predict(t_x)\n",
    "    \n",
    "    print('Accuracy on test set: {}'.format(accuracy_score(t_y, y_pred)))\n",
    "    print('F1: {}'.format(f1_score(Y, pred, average=\"macro\")))\n",
    "    print('Precision: {}'.format(precision_score(Y, pred, average=\"macro\")))\n",
    "    print('Recall: {}'.format(recall_score(Y, pred, average=\"macro\")))"
   ]
  },
  {
   "cell_type": "markdown",
   "metadata": {},
   "source": [
    "### ROC curves"
   ]
  },
  {
   "cell_type": "code",
   "execution_count": null,
   "metadata": {},
   "outputs": [],
   "source": [
    "\n",
    "\n",
    "def plot_roc_curve(fpr, tpr, label=None):\n",
    "    plt.plot(fpr, tpr, linewidth=2, label=label)\n",
    "    plt.plot([0, 1], [0, 1], 'k--') # dashed diagonal\n",
    "    plt.axis([0, 1, 0, 1])                                    \n",
    "    plt.xlabel('False Positive Rate (Fall-Out)', fontsize=16) \n",
    "    plt.ylabel('True Positive Rate (Recall)', fontsize=16)    \n",
    "    plt.grid(True)                                            "
   ]
  },
  {
   "cell_type": "code",
   "execution_count": 25,
   "metadata": {},
   "outputs": [
    {
     "data": {
      "image/png": "[encoded data removed]",
      "text/plain": [
       "<Figure size 576x432 with 1 Axes>"
      ]
     },
     "metadata": {
      "needs_background": "light"
     },
     "output_type": "display_data"
    }
   ],
   "source": [
    "from sklearn.metrics import roc_curve\n",
    "\n",
    "plt.figure(figsize=(8, 6))\n",
    "\n",
    "knn_y_scores = cross_val_predict(knn_clf1, X_train, y_train, cv=3)\n",
    "fpr, tpr, thresholds = roc_curve(y_train, knn_y_scores)\n",
    "plot_roc_curve(fpr, tpr, label='KNN')\n",
    "\n",
    "gnb_y_scores = cross_val_predict(gnb_clf1, X_train, y_train, cv=3)\n",
    "fpr, tpr, thresholds = roc_curve(y_train, gnb_y_scores)\n",
    "plot_roc_curve(fpr, tpr, label='Bayesian')\n",
    "\n",
    "tree_y_scores = cross_val_predict(tree_clf1, X_train, y_train, cv=3)\n",
    "fpr, tpr, thresholds = roc_curve(y_train, tree_y_scores)\n",
    "plot_roc_curve(fpr, tpr, label='Tree')\n",
    "\n",
    "plt.legend(loc=\"lower right\", fontsize=16)\n",
    "\n",
    "plt.show()"
   ]
  }
 ],
 "metadata": {
  "kernelspec": {
   "display_name": "py3-hwcg",
   "language": "python",
   "name": "py3-hwcg"
  },
  "language_info": {
   "codemirror_mode": {
    "name": "ipython",
    "version": 3
   },
   "file_extension": ".py",
   "mimetype": "text/x-python",
   "name": "python",
   "nbconvert_exporter": "python",
   "pygments_lexer": "ipython3",
   "version": "3.7.7"
  },
  "pycharm": {
   "stem_cell": {
    "cell_type": "raw",
    "source": [],
    "metadata": {
     "collapsed": false
    }
   }
  }
 },
 "nbformat": 4,
 "nbformat_minor": 4
}