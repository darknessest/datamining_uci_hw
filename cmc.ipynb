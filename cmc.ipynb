{
 "cells": [
  {
   "cell_type": "markdown",
   "metadata": {},
   "source": [
    "# Contraceptive Method Choice"
   ]
  },
  {
   "cell_type": "code",
   "execution_count": 1,
   "metadata": {},
   "outputs": [],
   "source": [
    "import os\n",
    "import pandas as pd\n",
    "import numpy as np\n",
    "\n",
    "%matplotlib inline\n",
    "import matplotlib as mpl\n",
    "import matplotlib.pyplot as plt"
   ]
  },
  {
   "cell_type": "markdown",
   "metadata": {},
   "source": [
    "## Import dataset\n",
    "\n",
    "**original dataset info**\n",
    "\n",
    "   1. Wife's age                     (numerical)\n",
    "   2. Wife's education               (categorical)      1=low, 2, 3, 4=high\n",
    "   3. Husband's education            (categorical)      1=low, 2, 3, 4=high\n",
    "   4. Number of children ever born   (numerical)\n",
    "   5. Wife's religion                (binary)           0=Non-Islam, 1=Islam\n",
    "   6. Wife's now working?            (binary)           0=Yes, 1=No\n",
    "   7. Husband's occupation           (categorical)      1, 2, 3, 4\n",
    "   8. Standard-of-living index       (categorical)      1=low, 2, 3, 4=high\n",
    "   9. Media exposure                 (binary)           0=Good, 1=Not good\n",
    "   10. Contraceptive method used     (class attribute)  1=No-use, 2=Long-term, 3=Short-term **<=**\n",
    "   \n",
    "**_Notes_**\n",
    "- Column #10 is to be predicted.\n",
    "- I'm going to change columns names and invert some of the values, as they don't correspond to common notation (e.g. #5,6,9)"
   ]
  },
  {
   "cell_type": "code",
   "execution_count": 2,
   "metadata": {
    "pycharm": {
     "is_executing": false
    }
   },
   "outputs": [],
   "source": [
    "path_to_data_set = os.path.join(\"UCI_datasets\", \"cmc\", \"cmc.data\")\n",
    "\n",
    "names = {\n",
    "    \"W_AGE\"                  : 'int8',\n",
    "    \"W_EDU\"                  : 'category',\n",
    "    \"H_EDU\"                  : 'category',\n",
    "    \"NUM_CHILDREN\"           : 'int8',\n",
    "    \"W_ISLAM\"                : 'bool',\n",
    "    \"W_WORKING\"              : 'bool',\n",
    "    \"H_JOB\"                  : 'category',\n",
    "    \"SOL\"                    : 'category',\n",
    "    \"BAD_MEDIA\"              : 'bool',\n",
    "    \"CONT_USAGE\"             : 'category'\n",
    "}\n",
    "\n",
    "table = pd.read_table(path_to_data_set, delimiter=\",\",  \n",
    "                      header=None, index_col=False, \n",
    "                      names=names.keys(),\n",
    "                      dtype=names,\n",
    "                      engine='python'\n",
    "                     )"
   ]
  },
  {
   "cell_type": "code",
   "execution_count": 3,
   "metadata": {
    "collapsed": false,
    "jupyter": {
     "outputs_hidden": false
    },
    "pycharm": {
     "name": "#%%\n"
    }
   },
   "outputs": [
    {
     "data": {
      "text/html": [
       "<div>\n",
       "<style scoped>\n",
       "    .dataframe tbody tr th:only-of-type {\n",
       "        vertical-align: middle;\n",
       "    }\n",
       "\n",
       "    .dataframe tbody tr th {\n",
       "        vertical-align: top;\n",
       "    }\n",
       "\n",
       "    .dataframe thead th {\n",
       "        text-align: right;\n",
       "    }\n",
       "</style>\n",
       "<table border=\"1\" class=\"dataframe\">\n",
       "  <thead>\n",
       "    <tr style=\"text-align: right;\">\n",
       "      <th></th>\n",
       "      <th>W_AGE</th>\n",
       "      <th>W_EDU</th>\n",
       "      <th>H_EDU</th>\n",
       "      <th>NUM_CHILDREN</th>\n",
       "      <th>W_ISLAM</th>\n",
       "      <th>W_WORKING</th>\n",
       "      <th>H_JOB</th>\n",
       "      <th>SOL</th>\n",
       "      <th>BAD_MEDIA</th>\n",
       "      <th>CONT_USAGE</th>\n",
       "    </tr>\n",
       "  </thead>\n",
       "  <tbody>\n",
       "    <tr>\n",
       "      <th>0</th>\n",
       "      <td>24</td>\n",
       "      <td>2</td>\n",
       "      <td>3</td>\n",
       "      <td>3</td>\n",
       "      <td>True</td>\n",
       "      <td>True</td>\n",
       "      <td>2</td>\n",
       "      <td>3</td>\n",
       "      <td>False</td>\n",
       "      <td>1</td>\n",
       "    </tr>\n",
       "    <tr>\n",
       "      <th>1</th>\n",
       "      <td>45</td>\n",
       "      <td>1</td>\n",
       "      <td>3</td>\n",
       "      <td>10</td>\n",
       "      <td>True</td>\n",
       "      <td>True</td>\n",
       "      <td>3</td>\n",
       "      <td>4</td>\n",
       "      <td>False</td>\n",
       "      <td>1</td>\n",
       "    </tr>\n",
       "    <tr>\n",
       "      <th>2</th>\n",
       "      <td>43</td>\n",
       "      <td>2</td>\n",
       "      <td>3</td>\n",
       "      <td>7</td>\n",
       "      <td>True</td>\n",
       "      <td>True</td>\n",
       "      <td>3</td>\n",
       "      <td>4</td>\n",
       "      <td>False</td>\n",
       "      <td>1</td>\n",
       "    </tr>\n",
       "    <tr>\n",
       "      <th>3</th>\n",
       "      <td>42</td>\n",
       "      <td>3</td>\n",
       "      <td>2</td>\n",
       "      <td>9</td>\n",
       "      <td>True</td>\n",
       "      <td>True</td>\n",
       "      <td>3</td>\n",
       "      <td>3</td>\n",
       "      <td>False</td>\n",
       "      <td>1</td>\n",
       "    </tr>\n",
       "    <tr>\n",
       "      <th>4</th>\n",
       "      <td>36</td>\n",
       "      <td>3</td>\n",
       "      <td>3</td>\n",
       "      <td>8</td>\n",
       "      <td>True</td>\n",
       "      <td>True</td>\n",
       "      <td>3</td>\n",
       "      <td>2</td>\n",
       "      <td>False</td>\n",
       "      <td>1</td>\n",
       "    </tr>\n",
       "  </tbody>\n",
       "</table>\n",
       "</div>"
      ],
      "text/plain": [
       "   W_AGE W_EDU H_EDU  NUM_CHILDREN  W_ISLAM  W_WORKING H_JOB SOL  BAD_MEDIA  \\\n",
       "0     24     2     3             3     True       True     2   3      False   \n",
       "1     45     1     3            10     True       True     3   4      False   \n",
       "2     43     2     3             7     True       True     3   4      False   \n",
       "3     42     3     2             9     True       True     3   3      False   \n",
       "4     36     3     3             8     True       True     3   2      False   \n",
       "\n",
       "  CONT_USAGE  \n",
       "0          1  \n",
       "1          1  \n",
       "2          1  \n",
       "3          1  \n",
       "4          1  "
      ]
     },
     "execution_count": 3,
     "metadata": {},
     "output_type": "execute_result"
    }
   ],
   "source": [
    "table.head()"
   ]
  },
  {
   "cell_type": "markdown",
   "metadata": {},
   "source": [
    "inverting values of columns"
   ]
  },
  {
   "cell_type": "code",
   "execution_count": 4,
   "metadata": {},
   "outputs": [],
   "source": [
    "table[\"W_WORKING\"] = table[\"W_WORKING\"].apply(lambda x: not x)\n",
    "# table[\"W_ISLAM\"] = table[\"W_ISLAM\"].apply(lambda x: not x)"
   ]
  },
  {
   "cell_type": "markdown",
   "metadata": {
    "pycharm": {
     "name": "#%% md\n"
    }
   },
   "source": [
    "### Data visualization"
   ]
  },
  {
   "cell_type": "markdown",
   "metadata": {
    "pycharm": {
     "name": "#%% md\n"
    }
   },
   "source": [
    "#### Unique values"
   ]
  },
  {
   "cell_type": "code",
   "execution_count": 5,
   "metadata": {
    "pycharm": {
     "name": "#%%\n"
    }
   },
   "outputs": [
    {
     "name": "stdout",
     "output_type": "stream",
     "text": [
      "W_AGE\n",
      "[24 45 43 42 36 19 38 21 27 44 26 48 39 37 46 40 29 31 33 25 28 47 32 49\n",
      " 34 20 22 30 23 35 41 17 18 16]\n",
      "W_EDU\n",
      "[2, 1, 3, 4]\n",
      "Categories (4, object): [2, 1, 3, 4]\n",
      "H_EDU\n",
      "[3, 2, 4, 1]\n",
      "Categories (4, object): [3, 2, 4, 1]\n",
      "NUM_CHILDREN\n",
      "[ 3 10  7  9  8  0  6  1  2  4  5 12 11 13 16]\n",
      "W_ISLAM\n",
      "[ True False]\n",
      "W_WORKING\n",
      "[False  True]\n",
      "H_JOB\n",
      "[2, 3, 1, 4]\n",
      "Categories (4, object): [2, 3, 1, 4]\n",
      "SOL\n",
      "[3, 4, 2, 1]\n",
      "Categories (4, object): [3, 4, 2, 1]\n",
      "BAD_MEDIA\n",
      "[False  True]\n",
      "CONT_USAGE\n",
      "[1, 2, 3]\n",
      "Categories (3, object): [1, 2, 3]\n"
     ]
    }
   ],
   "source": [
    "for x in table.columns:\n",
    "    print(x)\n",
    "    print(table[x].unique())"
   ]
  },
  {
   "cell_type": "markdown",
   "metadata": {
    "pycharm": {
     "name": "#%% md\n"
    }
   },
   "source": [
    "#### Correlation matrix\n",
    "It's only available for numeric values, but still worthy to have a look"
   ]
  },
  {
   "cell_type": "code",
   "execution_count": 6,
   "metadata": {
    "pycharm": {
     "name": "#%%\n"
    }
   },
   "outputs": [],
   "source": [
    "corr_matrix = table.corr().round(2)"
   ]
  },
  {
   "cell_type": "code",
   "execution_count": 7,
   "metadata": {},
   "outputs": [
    {
     "data": {
      "image/png": "[encoded data removed]",
      "text/plain": [
       "<Figure size 1440x720 with 2 Axes>"
      ]
     },
     "metadata": {
      "needs_background": "light"
     },
     "output_type": "display_data"
    }
   ],
   "source": [
    "ig, ax = plt.subplots(figsize=(10,10))\n",
    "ig.set_figwidth(20)\n",
    "\n",
    "im = ax.imshow(corr_matrix, cmap='binary', interpolation='nearest')\n",
    "im.set_clim(-1, 1)\n",
    "ax.grid(False)\n",
    "cols = [\"\",'W_AGE', 'NUM_CHILDREN', 'W_ISLAM', 'W_WORKING', 'BAD_MEDIA']\n",
    "\n",
    "ax.set_xticklabels(cols)\n",
    "ax.set_yticklabels(cols)\n",
    "\n",
    "for i in range(5):\n",
    "    for j in range(5):\n",
    "        ax.text(j, i, corr_matrix.iloc[i, j], ha='center', va='center', color='r')\n",
    "        \n",
    "\n",
    "cbar = ax.figure.colorbar(im, ax=ax, format='% .2f')\n",
    "plt.show()"
   ]
  },
  {
   "cell_type": "markdown",
   "metadata": {},
   "source": [
    "Wife's Age histogram"
   ]
  },
  {
   "cell_type": "code",
   "execution_count": 8,
   "metadata": {
    "collapsed": false,
    "jupyter": {
     "outputs_hidden": false
    },
    "pycharm": {
     "name": "#%%\n"
    }
   },
   "outputs": [
    {
     "data": {
      "text/plain": [
       "<matplotlib.axes._subplots.AxesSubplot at 0x12575fc90>"
      ]
     },
     "execution_count": 8,
     "metadata": {},
     "output_type": "execute_result"
    },
    {
     "data": {
      "image/png": "[encoded data removed]",
      "text/plain": [
       "<Figure size 432x288 with 1 Axes>"
      ]
     },
     "metadata": {
      "needs_background": "light"
     },
     "output_type": "display_data"
    }
   ],
   "source": [
    "table['W_AGE'].hist()"
   ]
  },
  {
   "cell_type": "markdown",
   "metadata": {},
   "source": [
    " 1. No-use\n",
    " 2. Long-term\n",
    " 3. Short-term "
   ]
  },
  {
   "cell_type": "markdown",
   "metadata": {},
   "source": [
    "Exploring number of values in each category\n",
    "1. No-use\"\n",
    "2. Long-term\n",
    "3. Short-term "
   ]
  },
  {
   "cell_type": "code",
   "execution_count": 9,
   "metadata": {},
   "outputs": [
    {
     "data": {
      "text/plain": [
       "<matplotlib.axes._subplots.AxesSubplot at 0x1257b0c50>"
      ]
     },
     "execution_count": 9,
     "metadata": {},
     "output_type": "execute_result"
    },
    {
     "data": {
      "image/png": "[encoded data removed]",
      "text/plain": [
       "<Figure size 432x288 with 1 Axes>"
      ]
     },
     "metadata": {
      "needs_background": "light"
     },
     "output_type": "display_data"
    }
   ],
   "source": [
    "table['CONT_USAGE'].hist()"
   ]
  },
  {
   "cell_type": "markdown",
   "metadata": {},
   "source": [
    "#### Bucketing(binning) values\n",
    "\n",
    "To produce better results in training I'll bucket continuous variable in to discrete chunks.\n",
    "\n",
    "Let's first explore histogram, to have a rough understanding of how many records we have in each age category"
   ]
  },
  {
   "cell_type": "code",
   "execution_count": 10,
   "metadata": {},
   "outputs": [
    {
     "data": {
      "text/plain": [
       "<matplotlib.axes._subplots.AxesSubplot at 0x125571c50>"
      ]
     },
     "execution_count": 10,
     "metadata": {},
     "output_type": "execute_result"
    },
    {
     "data": {
      "image/png": "[encoded data removed]",
      "text/plain": [
       "<Figure size 432x288 with 1 Axes>"
      ]
     },
     "metadata": {
      "needs_background": "light"
     },
     "output_type": "display_data"
    }
   ],
   "source": [
    "table['W_AGE'].hist()"
   ]
  },
  {
   "cell_type": "markdown",
   "metadata": {},
   "source": [
    "Lets bucket in 4 different ranges, to make it more balanced the following ranges are chosen (pretty close to percentiles):\n",
    "\n",
    "`[0, 25], (25, 32], (32, 40], (40, 50]`"
   ]
  },
  {
   "cell_type": "code",
   "execution_count": 11,
   "metadata": {},
   "outputs": [
    {
     "data": {
      "image/png": "[encoded data removed]",
      "text/plain": [
       "<Figure size 432x288 with 1 Axes>"
      ]
     },
     "metadata": {
      "needs_background": "light"
     },
     "output_type": "display_data"
    }
   ],
   "source": [
    "bins = [0, 25, 32, 40, 50]\n",
    "labels = [1,2,3,4]\n",
    "\n",
    "table['W_AGE_binned'] = pd.cut(table['W_AGE'], bins=bins, labels=labels)\n",
    "# table = table.astype({'W_AGE_binned' : 'category'})\n",
    "table['W_AGE_binned'].hist()\n",
    "table.drop(columns=['W_AGE'], inplace=True)"
   ]
  },
  {
   "cell_type": "markdown",
   "metadata": {},
   "source": [
    "Now is the time to bucket another discrete valued column. Let's look at number of unique values"
   ]
  },
  {
   "cell_type": "code",
   "execution_count": 12,
   "metadata": {},
   "outputs": [
    {
     "data": {
      "text/plain": [
       "2     276\n",
       "1     276\n",
       "3     259\n",
       "4     197\n",
       "5     135\n",
       "0      97\n",
       "6      92\n",
       "7      49\n",
       "8      47\n",
       "9      16\n",
       "11     11\n",
       "10     11\n",
       "12      4\n",
       "13      2\n",
       "16      1\n",
       "Name: NUM_CHILDREN, dtype: int64"
      ]
     },
     "execution_count": 12,
     "metadata": {},
     "output_type": "execute_result"
    }
   ],
   "source": [
    "table['NUM_CHILDREN'].value_counts()"
   ]
  },
  {
   "cell_type": "markdown",
   "metadata": {},
   "source": [
    "Due to bucketing limitations, I'll change all 0s to -1s, so .cut() can still be used"
   ]
  },
  {
   "cell_type": "code",
   "execution_count": 13,
   "metadata": {},
   "outputs": [],
   "source": [
    "table[\"NUM_CHILDREN\"] = table[\"NUM_CHILDREN\"].apply(lambda x: -1 if x == 0 else x)"
   ]
  },
  {
   "cell_type": "markdown",
   "metadata": {},
   "source": [
    "The here I'm going to bucket values according to the real world perspective\n",
    "\n",
    "`[0], [1], [2, 3], [3, 5], [5+]`\n",
    "\n",
    "So we can distinguish families without kids from families with kids, and small families from bigger families. This approach might be usefull for a more extensive research."
   ]
  },
  {
   "cell_type": "code",
   "execution_count": 14,
   "metadata": {},
   "outputs": [
    {
     "data": {
      "image/png": "[encoded data removed]",
      "text/plain": [
       "<Figure size 432x288 with 1 Axes>"
      ]
     },
     "metadata": {
      "needs_background": "light"
     },
     "output_type": "display_data"
    }
   ],
   "source": [
    "bins = [-2, 0, 1, 3, 5, 20]\n",
    "labels = [1,2,3,4, 5]\n",
    "\n",
    "\n",
    "table['NUM_CHILDREN_binned'] = pd.cut(table['NUM_CHILDREN'], bins=bins, labels=labels)\n",
    "# table = table.astype({'W_AGE_binned' : 'category'})\n",
    "table['NUM_CHILDREN_binned'].hist()\n",
    "table.drop(columns=['NUM_CHILDREN'], inplace=True)"
   ]
  },
  {
   "cell_type": "code",
   "execution_count": 15,
   "metadata": {},
   "outputs": [
    {
     "name": "stdout",
     "output_type": "stream",
     "text": [
      "<class 'pandas.core.frame.DataFrame'>\n",
      "RangeIndex: 1473 entries, 0 to 1472\n",
      "Data columns (total 10 columns):\n",
      " #   Column               Non-Null Count  Dtype   \n",
      "---  ------               --------------  -----   \n",
      " 0   W_EDU                1473 non-null   category\n",
      " 1   H_EDU                1473 non-null   category\n",
      " 2   W_ISLAM              1473 non-null   bool    \n",
      " 3   W_WORKING            1473 non-null   bool    \n",
      " 4   H_JOB                1473 non-null   category\n",
      " 5   SOL                  1473 non-null   category\n",
      " 6   BAD_MEDIA            1473 non-null   bool    \n",
      " 7   CONT_USAGE           1473 non-null   category\n",
      " 8   W_AGE_binned         1473 non-null   category\n",
      " 9   NUM_CHILDREN_binned  1473 non-null   category\n",
      "dtypes: bool(3), category(7)\n",
      "memory usage: 15.7 KB\n"
     ]
    }
   ],
   "source": [
    "table.info()"
   ]
  },
  {
   "cell_type": "code",
   "execution_count": 16,
   "metadata": {},
   "outputs": [],
   "source": [
    "X = table.drop(columns=['CONT_USAGE'], inplace=False)\n",
    "y = table['CONT_USAGE'].copy()\n",
    "\n",
    "from sklearn.model_selection import train_test_split\n",
    "\n",
    "X_train, X_test, y_train, y_test = train_test_split(X, y, test_size=0.15)"
   ]
  },
  {
   "cell_type": "markdown",
   "metadata": {},
   "source": [
    "## Train model"
   ]
  },
  {
   "cell_type": "markdown",
   "metadata": {},
   "source": [
    "importing libraries"
   ]
  },
  {
   "cell_type": "code",
   "execution_count": 17,
   "metadata": {},
   "outputs": [],
   "source": [
    "from sklearn.model_selection import GridSearchCV\n",
    "from sklearn.linear_model import LogisticRegression\n",
    "\n",
    "\n",
    "\n",
    "from sklearn.neighbors import KNeighborsClassifier\n",
    "from sklearn.naive_bayes import GaussianNB\n",
    "from sklearn import tree"
   ]
  },
  {
   "cell_type": "code",
   "execution_count": 18,
   "metadata": {},
   "outputs": [
    {
     "data": {
      "text/plain": [
       "KNeighborsClassifier(algorithm='auto', leaf_size=30, metric='minkowski',\n",
       "                     metric_params=None, n_jobs=None, n_neighbors=5, p=2,\n",
       "                     weights='uniform')"
      ]
     },
     "execution_count": 18,
     "metadata": {},
     "output_type": "execute_result"
    }
   ],
   "source": [
    "knn_clf = KNeighborsClassifier()\n",
    "knn_clf.fit(X_train, y_train)"
   ]
  },
  {
   "cell_type": "markdown",
   "metadata": {},
   "source": [
    "------\n",
    "Checking for prediction to work at all"
   ]
  },
  {
   "cell_type": "code",
   "execution_count": 19,
   "metadata": {},
   "outputs": [
    {
     "data": {
      "text/plain": [
       "array(['1'], dtype=object)"
      ]
     },
     "execution_count": 19,
     "metadata": {},
     "output_type": "execute_result"
    }
   ],
   "source": [
    "some_row = X.iloc[1].copy()\n",
    "knn_clf.predict([some_row])"
   ]
  },
  {
   "cell_type": "code",
   "execution_count": 20,
   "metadata": {},
   "outputs": [
    {
     "data": {
      "text/plain": [
       "'1'"
      ]
     },
     "execution_count": 20,
     "metadata": {},
     "output_type": "execute_result"
    }
   ],
   "source": [
    "y.loc[1]"
   ]
  },
  {
   "cell_type": "markdown",
   "metadata": {},
   "source": [
    "----\n",
    "back to other model training"
   ]
  },
  {
   "cell_type": "markdown",
   "metadata": {},
   "source": [
    "### KNN with GridSearchCV"
   ]
  },
  {
   "cell_type": "markdown",
   "metadata": {},
   "source": [
    "`GridsearchCV` for the best arguments for model"
   ]
  },
  {
   "cell_type": "code",
   "execution_count": 41,
   "metadata": {},
   "outputs": [],
   "source": [
    "from sklearn.decomposition import KernelPCA\n",
    "from sklearn.pipeline import Pipeline"
   ]
  },
  {
   "cell_type": "code",
   "execution_count": 55,
   "metadata": {},
   "outputs": [
    {
     "data": {
      "text/plain": [
       "GridSearchCV(cv=3, error_score=nan,\n",
       "             estimator=KNeighborsClassifier(algorithm='auto', leaf_size=30,\n",
       "                                            metric='minkowski',\n",
       "                                            metric_params=None, n_jobs=None,\n",
       "                                            n_neighbors=5, p=2,\n",
       "                                            weights='uniform'),\n",
       "             iid='deprecated', n_jobs=None,\n",
       "             param_grid={'leaf_size': range(2, 20),\n",
       "                         'n_neighbors': range(25, 50), 'p': [1, 2]},\n",
       "             pre_dispatch='2*n_jobs', refit=True, return_train_score=False,\n",
       "             scoring=None, verbose=0)"
      ]
     },
     "execution_count": 55,
     "metadata": {},
     "output_type": "execute_result"
    }
   ],
   "source": [
    "param_grid = {\n",
    "    'n_neighbors': range(25, 50),\n",
    "    'p': [1, 2],\n",
    "    'leaf_size': range(2, 20) \n",
    "}\n",
    "\n",
    "grid_search_knn = GridSearchCV(knn_clf, param_grid, cv=3)\n",
    "grid_search_knn.fit(X_train, y_train)"
   ]
  },
  {
   "cell_type": "code",
   "execution_count": 56,
   "metadata": {},
   "outputs": [
    {
     "name": "stdout",
     "output_type": "stream",
     "text": [
      "{'leaf_size': 4, 'n_neighbors': 48, 'p': 1}\n"
     ]
    }
   ],
   "source": [
    "print(grid_search_knn.best_params_)"
   ]
  },
  {
   "cell_type": "code",
   "execution_count": 57,
   "metadata": {},
   "outputs": [
    {
     "data": {
      "text/plain": [
       "0.544724029388929"
      ]
     },
     "execution_count": 57,
     "metadata": {},
     "output_type": "execute_result"
    }
   ],
   "source": [
    "grid_search_knn.best_score_"
   ]
  },
  {
   "cell_type": "markdown",
   "metadata": {},
   "source": [
    "### A lot of classifiers with basic arguments"
   ]
  },
  {
   "cell_type": "code",
   "execution_count": 21,
   "metadata": {},
   "outputs": [
    {
     "name": "stdout",
     "output_type": "stream",
     "text": [
      "============================== \n",
      "\n",
      "KNeighborsClassifier\n",
      "****Results****\n",
      "Accuracy: 49.7738%\n",
      "Log Loss: 7.378527328645\n",
      "============================== \n",
      "\n",
      "SVC\n",
      "****Results****\n",
      "Accuracy: 41.6290%\n",
      "Log Loss: 0.9268706185731129\n",
      "============================== \n",
      "\n",
      "NuSVC\n",
      "****Results****\n",
      "Accuracy: 53.3937%\n",
      "Log Loss: 0.9731195868826773\n",
      "============================== \n",
      "\n",
      "DecisionTreeClassifier\n",
      "****Results****\n",
      "Accuracy: 45.7014%\n",
      "Log Loss: 13.840482842316408\n",
      "============================== \n",
      "\n",
      "RandomForestClassifier\n",
      "****Results****\n",
      "Accuracy: 54.2986%\n",
      "Log Loss: 1.561853828016383\n",
      "============================== \n",
      "\n",
      "AdaBoostClassifier\n",
      "****Results****\n",
      "Accuracy: 55.2036%\n",
      "Log Loss: 1.076262224924683\n",
      "============================== \n",
      "\n",
      "GradientBoostingClassifier\n",
      "****Results****\n",
      "Accuracy: 57.9186%\n",
      "Log Loss: 0.951867629144146\n",
      "============================== \n",
      "\n",
      "GaussianNB\n",
      "****Results****\n",
      "Accuracy: 47.9638%\n",
      "Log Loss: 1.5379714750043765\n",
      "============================== \n",
      "\n",
      "LinearDiscriminantAnalysis\n",
      "****Results****\n",
      "Accuracy: 53.8462%\n",
      "Log Loss: 0.9352166516944005\n",
      "============================== \n",
      "\n",
      "QuadraticDiscriminantAnalysis\n",
      "****Results****\n",
      "Accuracy: 52.0362%\n",
      "Log Loss: 1.4083156808514656\n",
      "==============================\n"
     ]
    }
   ],
   "source": [
    "from sklearn.metrics import accuracy_score, log_loss\n",
    "from sklearn.neighbors import KNeighborsClassifier\n",
    "from sklearn.svm import SVC, LinearSVC, NuSVC\n",
    "from sklearn.tree import DecisionTreeClassifier\n",
    "from sklearn.ensemble import RandomForestClassifier, AdaBoostClassifier, GradientBoostingClassifier\n",
    "from sklearn.naive_bayes import GaussianNB\n",
    "from sklearn.discriminant_analysis import LinearDiscriminantAnalysis\n",
    "from sklearn.discriminant_analysis import QuadraticDiscriminantAnalysis\n",
    "\n",
    "classifiers = [\n",
    "    KNeighborsClassifier(3),\n",
    "    SVC(kernel=\"rbf\", C=0.025, probability=True),\n",
    "    NuSVC(probability=True),\n",
    "    DecisionTreeClassifier(),\n",
    "    RandomForestClassifier(),\n",
    "    AdaBoostClassifier(),\n",
    "    GradientBoostingClassifier(),\n",
    "    GaussianNB(),\n",
    "    LinearDiscriminantAnalysis(),\n",
    "    QuadraticDiscriminantAnalysis()]\n",
    "\n",
    "# Logging for Visual Comparison\n",
    "log_cols=[\"Classifier\", \"Accuracy\", \"Log Loss\"]\n",
    "log = pd.DataFrame(columns=log_cols)\n",
    "\n",
    "for clf in classifiers:\n",
    "    clf.fit(X_train, y_train)\n",
    "    name = clf.__class__.__name__\n",
    "    \n",
    "    print(\"=\"*30, '\\n')\n",
    "    print(name)\n",
    "    \n",
    "    print('****Results****')\n",
    "    train_predictions = clf.predict(X_test)\n",
    "    acc = accuracy_score(y_test, train_predictions)\n",
    "    print(\"Accuracy: {:.4%}\".format(acc))\n",
    "    \n",
    "    train_predictions = clf.predict_proba(X_test)\n",
    "    ll = log_loss(y_test, train_predictions)\n",
    "    print(\"Log Loss: {}\".format(ll))\n",
    "    \n",
    "    log_entry = pd.DataFrame([[name, acc*100, ll]], columns=log_cols)\n",
    "    log = log.append(log_entry)\n",
    "    \n",
    "print(\"=\"*30)"
   ]
  },
  {
   "cell_type": "code",
   "execution_count": 24,
   "metadata": {},
   "outputs": [],
   "source": [
    "from sklearn.decomposition import PCA"
   ]
  },
  {
   "cell_type": "code",
   "execution_count": 25,
   "metadata": {},
   "outputs": [],
   "source": [
    "pca = PCA()\n",
    "pca.fit(X_train)\n",
    "cumsum = np.cumsum(pca.explained_variance_ratio_)\n",
    "d = np.argmax(cumsum >= 0.95) + 1"
   ]
  },
  {
   "cell_type": "code",
   "execution_count": 26,
   "metadata": {},
   "outputs": [
    {
     "data": {
      "text/plain": [
       "7"
      ]
     },
     "execution_count": 26,
     "metadata": {},
     "output_type": "execute_result"
    }
   ],
   "source": [
    "d"
   ]
  },
  {
   "cell_type": "code",
   "execution_count": 49,
   "metadata": {},
   "outputs": [
    {
     "data": {
      "image/png": "[encoded data removed]",
      "text/plain": [
       "<Figure size 576x432 with 1 Axes>"
      ]
     },
     "metadata": {
      "needs_background": "light"
     },
     "output_type": "display_data"
    }
   ],
   "source": [
    "%matplotlib inline\n",
    "import matplotlib as mpl\n",
    "import matplotlib.pyplot as plt\n",
    "\n",
    "plt.figure(figsize=(8,6))\n",
    "plt.plot(cumsum, linewidth=3)\n",
    "plt.axis([0, 9, 0, 1])\n",
    "plt.xlabel(\"Dimensions\")\n",
    "plt.ylabel(\"Explained Variance\")\n",
    "plt.plot([d, d], [0, 0.95], \"k:\")\n",
    "plt.plot([0, d], [0.95, 0.95], \"k:\")\n",
    "\n",
    "\n",
    "plt.plot([5, 5], [0, 0.95], marker='o', color='b', linestyle=\"--\")\n",
    "plt.plot([0, 5], [0.95, 0.95],color='b', linestyle=\"--\")\n",
    "\n",
    "plt.plot(d, 0.95, \"ko\")\n",
    "plt.annotate(\"Elbow\", xy=(4.5, 0.9), xytext=(6, 0.8),\n",
    "             arrowprops=dict(arrowstyle=\"->\"), fontsize=16)\n",
    "plt.grid(True)\n",
    "plt.show()"
   ]
  },
  {
   "cell_type": "markdown",
   "metadata": {},
   "source": [
    "## Model evaluation "
   ]
  },
  {
   "cell_type": "markdown",
   "metadata": {},
   "source": [
    "### Comparing trained models"
   ]
  },
  {
   "cell_type": "markdown",
   "metadata": {},
   "source": [
    "`macro` is necessary for multilable classifiers"
   ]
  },
  {
   "cell_type": "code",
   "execution_count": 16,
   "metadata": {
    "collapsed": false,
    "jupyter": {
     "outputs_hidden": false
    },
    "pycharm": {
     "name": "#%%\n"
    }
   },
   "outputs": [],
   "source": [
    "from sklearn.metrics import f1_score, precision_score, recall_score, accuracy_score\n",
    "from sklearn.model_selection import cross_val_predict\n",
    "\n",
    "def metrics(clf, X, Y, t_x, t_y):\n",
    "    pred = cross_val_predict(clf, X, Y, cv=3)\n",
    "    y_pred = clf.predict(t_x)\n",
    "    \n",
    "    print('Accuracy on test set: {}'.format(accuracy_score(t_y, y_pred)))\n",
    "    print('F1: {}'.format(f1_score(Y, pred, average=\"macro\")))\n",
    "    print('Precision: {}'.format(precision_score(Y, pred, average=\"macro\")))\n",
    "    print('Recall: {}'.format(recall_score(Y, pred, average=\"macro\")))"
   ]
  },
  {
   "cell_type": "markdown",
   "metadata": {},
   "source": [
    "### ROC curves"
   ]
  },
  {
   "cell_type": "code",
   "execution_count": 17,
   "metadata": {
    "collapsed": false,
    "jupyter": {
     "outputs_hidden": false
    },
    "pycharm": {
     "name": "#%%\n"
    }
   },
   "outputs": [],
   "source": [
    "\n",
    "\n",
    "def plot_roc_curve(fpr, tpr, label=None):\n",
    "    plt.plot(fpr, tpr, linewidth=2, label=label)\n",
    "    plt.plot([0, 1], [0, 1], 'k--') # dashed diagonal\n",
    "    plt.axis([0, 1, 0, 1])                                    \n",
    "    plt.xlabel('False Positive Rate (Fall-Out)', fontsize=16) \n",
    "    plt.ylabel('True Positive Rate (Recall)', fontsize=16)    \n",
    "    plt.grid(True)                                            "
   ]
  },
  {
   "cell_type": "code",
   "execution_count": 18,
   "metadata": {
    "collapsed": false,
    "jupyter": {
     "outputs_hidden": false
    },
    "pycharm": {
     "name": "#%%\n"
    }
   },
   "outputs": [
    {
     "ename": "NameError",
     "evalue": "name 'knn_clf1' is not defined",
     "output_type": "error",
     "traceback": [
      "\u001b[0;31m---------------------------------------------------------------------------\u001b[0m",
      "\u001b[0;31mNameError\u001b[0m                                 Traceback (most recent call last)",
      "\u001b[0;32m<ipython-input-18-b7ff8de93458>\u001b[0m in \u001b[0;36m<module>\u001b[0;34m\u001b[0m\n\u001b[1;32m      3\u001b[0m \u001b[0mplt\u001b[0m\u001b[0;34m.\u001b[0m\u001b[0mfigure\u001b[0m\u001b[0;34m(\u001b[0m\u001b[0mfigsize\u001b[0m\u001b[0;34m=\u001b[0m\u001b[0;34m(\u001b[0m\u001b[0;36m8\u001b[0m\u001b[0;34m,\u001b[0m \u001b[0;36m6\u001b[0m\u001b[0;34m)\u001b[0m\u001b[0;34m)\u001b[0m\u001b[0;34m\u001b[0m\u001b[0;34m\u001b[0m\u001b[0m\n\u001b[1;32m      4\u001b[0m \u001b[0;34m\u001b[0m\u001b[0m\n\u001b[0;32m----> 5\u001b[0;31m \u001b[0mknn_y_scores\u001b[0m \u001b[0;34m=\u001b[0m \u001b[0mcross_val_predict\u001b[0m\u001b[0;34m(\u001b[0m\u001b[0mknn_clf1\u001b[0m\u001b[0;34m,\u001b[0m \u001b[0mX_train\u001b[0m\u001b[0;34m,\u001b[0m \u001b[0my_train\u001b[0m\u001b[0;34m,\u001b[0m \u001b[0mcv\u001b[0m\u001b[0;34m=\u001b[0m\u001b[0;36m3\u001b[0m\u001b[0;34m)\u001b[0m\u001b[0;34m\u001b[0m\u001b[0;34m\u001b[0m\u001b[0m\n\u001b[0m\u001b[1;32m      6\u001b[0m \u001b[0mfpr\u001b[0m\u001b[0;34m,\u001b[0m \u001b[0mtpr\u001b[0m\u001b[0;34m,\u001b[0m \u001b[0mthresholds\u001b[0m \u001b[0;34m=\u001b[0m \u001b[0mroc_curve\u001b[0m\u001b[0;34m(\u001b[0m\u001b[0my_train\u001b[0m\u001b[0;34m,\u001b[0m \u001b[0mknn_y_scores\u001b[0m\u001b[0;34m)\u001b[0m\u001b[0;34m\u001b[0m\u001b[0;34m\u001b[0m\u001b[0m\n\u001b[1;32m      7\u001b[0m \u001b[0mplot_roc_curve\u001b[0m\u001b[0;34m(\u001b[0m\u001b[0mfpr\u001b[0m\u001b[0;34m,\u001b[0m \u001b[0mtpr\u001b[0m\u001b[0;34m,\u001b[0m \u001b[0mlabel\u001b[0m\u001b[0;34m=\u001b[0m\u001b[0;34m'KNN'\u001b[0m\u001b[0;34m)\u001b[0m\u001b[0;34m\u001b[0m\u001b[0;34m\u001b[0m\u001b[0m\n",
      "\u001b[0;31mNameError\u001b[0m: name 'knn_clf1' is not defined"
     ]
    },
    {
     "data": {
      "text/plain": [
       "<Figure size 576x432 with 0 Axes>"
      ]
     },
     "metadata": {},
     "output_type": "display_data"
    }
   ],
   "source": [
    "from sklearn.metrics import roc_curve\n",
    "\n",
    "plt.figure(figsize=(8, 6))\n",
    "\n",
    "knn_y_scores = cross_val_predict(knn_clf1, X_train, y_train, cv=3)\n",
    "fpr, tpr, thresholds = roc_curve(y_train, knn_y_scores)\n",
    "plot_roc_curve(fpr, tpr, label='KNN')\n",
    "\n",
    "gnb_y_scores = cross_val_predict(gnb_clf1, X_train, y_train, cv=3)\n",
    "fpr, tpr, thresholds = roc_curve(y_train, gnb_y_scores)\n",
    "plot_roc_curve(fpr, tpr, label='Bayesian')\n",
    "\n",
    "tree_y_scores = cross_val_predict(tree_clf1, X_train, y_train, cv=3)\n",
    "fpr, tpr, thresholds = roc_curve(y_train, tree_y_scores)\n",
    "plot_roc_curve(fpr, tpr, label='Tree')\n",
    "\n",
    "plt.legend(loc=\"lower right\", fontsize=16)\n",
    "\n",
    "plt.show()"
   ]
  },
  {
   "cell_type": "markdown",
   "metadata": {},
   "source": [
    "from sklearn.metrics import roc_curve\n",
    "\n",
    "plt.figure(figsize=(8, 6))\n",
    "\n",
    "knn_y_scores = cross_val_predict(knn_clf1, X_train, y_train, cv=3)\n",
    "fpr, tpr, thresholds = roc_curve(y_train, knn_y_scores)\n",
    "plot_roc_curve(fpr, tpr, label='KNN')\n",
    "\n",
    "gnb_y_scores = cross_val_predict(gnb_clf1, X_train, y_train, cv=3)\n",
    "fpr, tpr, thresholds = roc_curve(y_train, gnb_y_scores)\n",
    "plot_roc_curve(fpr, tpr, label='Bayesian')\n",
    "\n",
    "tree_y_scores = cross_val_predict(tree_clf1, X_train, y_train, cv=3)\n",
    "fpr, tpr, thresholds = roc_curve(y_train, tree_y_scores)\n",
    "plot_roc_curve(fpr, tpr, label='Tree')\n",
    "\n",
    "plt.legend(loc=\"lower right\", fontsize=16)\n",
    "\n",
    "plt.show()"
   ]
  },
  {
   "cell_type": "markdown",
   "metadata": {},
   "source": [
    "### Comparing trained models"
   ]
  },
  {
   "cell_type": "markdown",
   "metadata": {},
   "source": [
    "`macro` is necessary for multilable classifiers"
   ]
  },
  {
   "cell_type": "code",
   "execution_count": null,
   "metadata": {},
   "outputs": [],
   "source": [
    "from sklearn.metrics import f1_score, precision_score, recall_score, accuracy_score\n",
    "from sklearn.model_selection import cross_val_predict\n",
    "\n",
    "def metrics(clf, X, Y, t_x, t_y):\n",
    "    pred = cross_val_predict(clf, X, Y, cv=3)\n",
    "    y_pred = clf.predict(t_x)\n",
    "    \n",
    "    print('Accuracy on test set: {}'.format(accuracy_score(t_y, y_pred)))\n",
    "    print('F1: {}'.format(f1_score(Y, pred, average=\"macro\")))\n",
    "    print('Precision: {}'.format(precision_score(Y, pred, average=\"macro\")))\n",
    "    print('Recall: {}'.format(recall_score(Y, pred, average=\"macro\")))"
   ]
  },
  {
   "cell_type": "markdown",
   "metadata": {},
   "source": [
    "### ROC curves"
   ]
  },
  {
   "cell_type": "code",
   "execution_count": null,
   "metadata": {},
   "outputs": [],
   "source": [
    "\n",
    "\n",
    "def plot_roc_curve(fpr, tpr, label=None):\n",
    "    plt.plot(fpr, tpr, linewidth=2, label=label)\n",
    "    plt.plot([0, 1], [0, 1], 'k--') # dashed diagonal\n",
    "    plt.axis([0, 1, 0, 1])                                    \n",
    "    plt.xlabel('False Positive Rate (Fall-Out)', fontsize=16) \n",
    "    plt.ylabel('True Positive Rate (Recall)', fontsize=16)    \n",
    "    plt.grid(True)                                            "
   ]
  },
  {
   "cell_type": "code",
   "execution_count": null,
   "metadata": {},
   "outputs": [],
   "source": [
    "from sklearn.metrics import roc_curve\n",
    "\n",
    "plt.figure(figsize=(8, 6))\n",
    "\n",
    "knn_y_scores = cross_val_predict(knn_clf1, X_train, y_train, cv=3)\n",
    "fpr, tpr, thresholds = roc_curve(y_train, knn_y_scores)\n",
    "plot_roc_curve(fpr, tpr, label='KNN')\n",
    "\n",
    "gnb_y_scores = cross_val_predict(gnb_clf1, X_train, y_train, cv=3)\n",
    "fpr, tpr, thresholds = roc_curve(y_train, gnb_y_scores)\n",
    "plot_roc_curve(fpr, tpr, label='Bayesian')\n",
    "\n",
    "tree_y_scores = cross_val_predict(tree_clf1, X_train, y_train, cv=3)\n",
    "fpr, tpr, thresholds = roc_curve(y_train, tree_y_scores)\n",
    "plot_roc_curve(fpr, tpr, label='Tree')\n",
    "\n",
    "plt.legend(loc=\"lower right\", fontsize=16)\n",
    "\n",
    "plt.show()"
   ]
  }
 ],
 "metadata": {
  "kernelspec": {
   "display_name": "py3-hwcg",
   "language": "python",
   "name": "py3-hwcg"
  },
  "language_info": {
   "codemirror_mode": {
    "name": "ipython",
    "version": 3
   },
   "file_extension": ".py",
   "mimetype": "text/x-python",
   "name": "python",
   "nbconvert_exporter": "python",
   "pygments_lexer": "ipython3",
   "version": "3.7.7"
  },
  "pycharm": {
   "stem_cell": {
    "cell_type": "raw",
    "metadata": {
     "collapsed": false
    },
    "source": []
   }
  }
 },
 "nbformat": 4,
 "nbformat_minor": 4
}
