{
 "cells": [
  {
   "cell_type": "markdown",
   "metadata": {},
   "source": [
    "# Contraceptive Method Choice"
   ]
  },
  {
   "cell_type": "code",
   "execution_count": 1,
   "metadata": {},
   "outputs": [],
   "source": [
    "import os\n",
    "import pandas as pd\n",
    "import numpy as np\n",
    "\n",
    "%matplotlib inline\n",
    "import matplotlib as mpl\n",
    "import matplotlib.pyplot as plt"
   ]
  },
  {
   "cell_type": "markdown",
   "metadata": {},
   "source": [
    "## Import dataset\n",
    "\n",
    "**original dataset info**\n",
    "\n",
    "   1. Wife's age                     (numerical)\n",
    "   2. Wife's education               (categorical)      1=low, 2, 3, 4=high\n",
    "   3. Husband's education            (categorical)      1=low, 2, 3, 4=high\n",
    "   4. Number of children ever born   (numerical)\n",
    "   5. Wife's religion                (binary)           0=Non-Islam, 1=Islam\n",
    "   6. Wife's now working?            (binary)           0=Yes, 1=No\n",
    "   7. Husband's occupation           (categorical)      1, 2, 3, 4\n",
    "   8. Standard-of-living index       (categorical)      1=low, 2, 3, 4=high\n",
    "   9. Media exposure                 (binary)           0=Good, 1=Not good\n",
    "   10. Contraceptive method used     (class attribute)  1=No-use, 2=Long-term, 3=Short-term **<=**\n",
    "   \n",
    "**_Notes_**\n",
    "- Column #10 is to be predicted.\n",
    "- I'm going to change columns names and invert some of the values, as they don't correspond to common notation (e.g. #5,6,9)"
   ]
  },
  {
   "cell_type": "code",
   "execution_count": 2,
   "metadata": {
    "pycharm": {
     "is_executing": false
    }
   },
   "outputs": [],
   "source": [
    "path_to_data_set = os.path.join(\"UCI_datasets\", \"cmc\", \"cmc.data\")\n",
    "\n",
    "names = {\n",
    "    \"W_AGE\"                  : 'int8',\n",
    "    \"W_EDU\"                  : 'category',\n",
    "    \"H_EDU\"                  : 'category',\n",
    "    \"NUM_CHILDREN\"           : 'int8',\n",
    "    \"W_ISLAM\"                : 'bool',\n",
    "    \"W_WORKING\"              : 'bool',\n",
    "    \"H_JOB\"                  : 'category',\n",
    "    \"SOL\"                    : 'category',\n",
    "    \"BAD_MEDIA\"              : 'bool',\n",
    "    \"CONT_USAGE\"             : 'category'\n",
    "}\n",
    "\n",
    "table = pd.read_table(path_to_data_set, delimiter=\",\",  \n",
    "                      header=None, index_col=False, \n",
    "                      names=names.keys(),\n",
    "                      dtype=names,\n",
    "                      engine='python'\n",
    "                     )"
   ]
  },
  {
   "cell_type": "code",
   "execution_count": 3,
   "metadata": {
    "collapsed": false,
    "jupyter": {
     "outputs_hidden": false
    },
    "pycharm": {
     "name": "#%%\n"
    }
   },
   "outputs": [
    {
     "data": {
      "text/html": [
       "<div>\n",
       "<style scoped>\n",
       "    .dataframe tbody tr th:only-of-type {\n",
       "        vertical-align: middle;\n",
       "    }\n",
       "\n",
       "    .dataframe tbody tr th {\n",
       "        vertical-align: top;\n",
       "    }\n",
       "\n",
       "    .dataframe thead th {\n",
       "        text-align: right;\n",
       "    }\n",
       "</style>\n",
       "<table border=\"1\" class=\"dataframe\">\n",
       "  <thead>\n",
       "    <tr style=\"text-align: right;\">\n",
       "      <th></th>\n",
       "      <th>W_AGE</th>\n",
       "      <th>W_EDU</th>\n",
       "      <th>H_EDU</th>\n",
       "      <th>NUM_CHILDREN</th>\n",
       "      <th>W_ISLAM</th>\n",
       "      <th>W_WORKING</th>\n",
       "      <th>H_JOB</th>\n",
       "      <th>SOL</th>\n",
       "      <th>BAD_MEDIA</th>\n",
       "      <th>CONT_USAGE</th>\n",
       "    </tr>\n",
       "  </thead>\n",
       "  <tbody>\n",
       "    <tr>\n",
       "      <th>0</th>\n",
       "      <td>24</td>\n",
       "      <td>2</td>\n",
       "      <td>3</td>\n",
       "      <td>3</td>\n",
       "      <td>True</td>\n",
       "      <td>True</td>\n",
       "      <td>2</td>\n",
       "      <td>3</td>\n",
       "      <td>False</td>\n",
       "      <td>1</td>\n",
       "    </tr>\n",
       "    <tr>\n",
       "      <th>1</th>\n",
       "      <td>45</td>\n",
       "      <td>1</td>\n",
       "      <td>3</td>\n",
       "      <td>10</td>\n",
       "      <td>True</td>\n",
       "      <td>True</td>\n",
       "      <td>3</td>\n",
       "      <td>4</td>\n",
       "      <td>False</td>\n",
       "      <td>1</td>\n",
       "    </tr>\n",
       "    <tr>\n",
       "      <th>2</th>\n",
       "      <td>43</td>\n",
       "      <td>2</td>\n",
       "      <td>3</td>\n",
       "      <td>7</td>\n",
       "      <td>True</td>\n",
       "      <td>True</td>\n",
       "      <td>3</td>\n",
       "      <td>4</td>\n",
       "      <td>False</td>\n",
       "      <td>1</td>\n",
       "    </tr>\n",
       "    <tr>\n",
       "      <th>3</th>\n",
       "      <td>42</td>\n",
       "      <td>3</td>\n",
       "      <td>2</td>\n",
       "      <td>9</td>\n",
       "      <td>True</td>\n",
       "      <td>True</td>\n",
       "      <td>3</td>\n",
       "      <td>3</td>\n",
       "      <td>False</td>\n",
       "      <td>1</td>\n",
       "    </tr>\n",
       "    <tr>\n",
       "      <th>4</th>\n",
       "      <td>36</td>\n",
       "      <td>3</td>\n",
       "      <td>3</td>\n",
       "      <td>8</td>\n",
       "      <td>True</td>\n",
       "      <td>True</td>\n",
       "      <td>3</td>\n",
       "      <td>2</td>\n",
       "      <td>False</td>\n",
       "      <td>1</td>\n",
       "    </tr>\n",
       "  </tbody>\n",
       "</table>\n",
       "</div>"
      ],
      "text/plain": [
       "   W_AGE W_EDU H_EDU  NUM_CHILDREN  W_ISLAM  W_WORKING H_JOB SOL  BAD_MEDIA  \\\n",
       "0     24     2     3             3     True       True     2   3      False   \n",
       "1     45     1     3            10     True       True     3   4      False   \n",
       "2     43     2     3             7     True       True     3   4      False   \n",
       "3     42     3     2             9     True       True     3   3      False   \n",
       "4     36     3     3             8     True       True     3   2      False   \n",
       "\n",
       "  CONT_USAGE  \n",
       "0          1  \n",
       "1          1  \n",
       "2          1  \n",
       "3          1  \n",
       "4          1  "
      ]
     },
     "execution_count": 3,
     "metadata": {},
     "output_type": "execute_result"
    }
   ],
   "source": [
    "table.head()"
   ]
  },
  {
   "cell_type": "markdown",
   "metadata": {},
   "source": [
    "inverting values of columns"
   ]
  },
  {
   "cell_type": "code",
   "execution_count": 4,
   "metadata": {},
   "outputs": [],
   "source": [
    "table[\"W_WORKING\"] = table[\"W_WORKING\"].apply(lambda x: not x)\n",
    "# table[\"W_ISLAM\"] = table[\"W_ISLAM\"].apply(lambda x: not x)"
   ]
  },
  {
   "cell_type": "markdown",
   "metadata": {
    "pycharm": {
     "name": "#%% md\n"
    }
   },
   "source": [
    "### Data visualization"
   ]
  },
  {
   "cell_type": "markdown",
   "metadata": {
    "pycharm": {
     "name": "#%% md\n"
    }
   },
   "source": [
    "#### Unique values"
   ]
  },
  {
   "cell_type": "code",
   "execution_count": 5,
   "metadata": {
    "pycharm": {
     "name": "#%%\n"
    }
   },
   "outputs": [
    {
     "name": "stdout",
     "output_type": "stream",
     "text": [
      "W_AGE\n",
      "[24 45 43 42 36 19 38 21 27 44 26 48 39 37 46 40 29 31 33 25 28 47 32 49\n",
      " 34 20 22 30 23 35 41 17 18 16]\n",
      "W_EDU\n",
      "[2, 1, 3, 4]\n",
      "Categories (4, object): [2, 1, 3, 4]\n",
      "H_EDU\n",
      "[3, 2, 4, 1]\n",
      "Categories (4, object): [3, 2, 4, 1]\n",
      "NUM_CHILDREN\n",
      "[ 3 10  7  9  8  0  6  1  2  4  5 12 11 13 16]\n",
      "W_ISLAM\n",
      "[ True False]\n",
      "W_WORKING\n",
      "[False  True]\n",
      "H_JOB\n",
      "[2, 3, 1, 4]\n",
      "Categories (4, object): [2, 3, 1, 4]\n",
      "SOL\n",
      "[3, 4, 2, 1]\n",
      "Categories (4, object): [3, 4, 2, 1]\n",
      "BAD_MEDIA\n",
      "[False  True]\n",
      "CONT_USAGE\n",
      "[1, 2, 3]\n",
      "Categories (3, object): [1, 2, 3]\n"
     ]
    }
   ],
   "source": [
    "for x in table.columns:\n",
    "    print(x)\n",
    "    print(table[x].unique())"
   ]
  },
  {
   "cell_type": "markdown",
   "metadata": {
    "pycharm": {
     "name": "#%% md\n"
    }
   },
   "source": [
    "#### Correlation matrix\n",
    "It's only available for numeric values, but still worthy to have a look"
   ]
  },
  {
   "cell_type": "code",
   "execution_count": 6,
   "metadata": {
    "pycharm": {
     "name": "#%%\n"
    }
   },
   "outputs": [],
   "source": [
    "corr_matrix = table.corr().round(2)"
   ]
  },
  {
   "cell_type": "code",
   "execution_count": 7,
   "metadata": {},
   "outputs": [
    {
     "data": {
      "image/png": "[encoded data removed]",
      "text/plain": [
       "<Figure size 1440x720 with 2 Axes>"
      ]
     },
     "metadata": {
      "needs_background": "light"
     },
     "output_type": "display_data"
    }
   ],
   "source": [
    "ig, ax = plt.subplots(figsize=(10,10))\n",
    "ig.set_figwidth(20)\n",
    "\n",
    "im = ax.imshow(corr_matrix, cmap='binary', interpolation='nearest')\n",
    "im.set_clim(-1, 1)\n",
    "ax.grid(False)\n",
    "cols = [\"\",'W_AGE', 'NUM_CHILDREN', 'W_ISLAM', 'W_WORKING', 'BAD_MEDIA']\n",
    "\n",
    "ax.set_xticklabels(cols)\n",
    "ax.set_yticklabels(cols)\n",
    "\n",
    "for i in range(5):\n",
    "    for j in range(5):\n",
    "        ax.text(j, i, corr_matrix.iloc[i, j], ha='center', va='center', color='r')\n",
    "        \n",
    "\n",
    "cbar = ax.figure.colorbar(im, ax=ax, format='% .2f')\n",
    "plt.show()"
   ]
  },
  {
   "cell_type": "markdown",
   "metadata": {},
   "source": [
    "Wife's Age histogram"
   ]
  },
  {
   "cell_type": "code",
   "execution_count": 8,
   "metadata": {
    "pycharm": {
     "name": "#%%\n"
    }
   },
   "outputs": [
    {
     "data": {
      "text/plain": [
       "<matplotlib.axes._subplots.AxesSubplot at 0x121f0c850>"
      ]
     },
     "execution_count": 8,
     "metadata": {},
     "output_type": "execute_result"
    },
    {
     "data": {
      "image/png": "[encoded data removed]",
      "text/plain": [
       "<Figure size 432x288 with 1 Axes>"
      ]
     },
     "metadata": {
      "needs_background": "light"
     },
     "output_type": "display_data"
    }
   ],
   "source": [
    "table['W_AGE'].hist()"
   ]
  },
  {
   "cell_type": "markdown",
   "metadata": {},
   "source": [
    " 1. No-use\n",
    " 2. Long-term\n",
    " 3. Short-term "
   ]
  },
  {
   "cell_type": "markdown",
   "metadata": {},
   "source": [
    "Exploring number of values in each category\n",
    "1. No-use\n",
    "2. Long-term\n",
    "3. Short-term "
   ]
  },
  {
   "cell_type": "code",
   "execution_count": 9,
   "metadata": {},
   "outputs": [
    {
     "data": {
      "text/plain": [
       "<matplotlib.axes._subplots.AxesSubplot at 0x12283a8b0>"
      ]
     },
     "execution_count": 9,
     "metadata": {},
     "output_type": "execute_result"
    },
    {
     "data": {
      "image/png": "[encoded data removed]",
      "text/plain": [
       "<Figure size 432x288 with 1 Axes>"
      ]
     },
     "metadata": {
      "needs_background": "light"
     },
     "output_type": "display_data"
    }
   ],
   "source": [
    "table['CONT_USAGE'].hist()"
   ]
  },
  {
   "cell_type": "markdown",
   "metadata": {},
   "source": [
    "## Comparing models"
   ]
  },
  {
   "cell_type": "markdown",
   "metadata": {
    "pycharm": {
     "name": "#%% md\n"
    }
   },
   "source": [
    "`macro` is necessary for multilable classifiers"
   ]
  },
  {
   "cell_type": "code",
   "execution_count": 10,
   "metadata": {
    "pycharm": {
     "name": "#%%\n"
    }
   },
   "outputs": [],
   "source": [
    "from sklearn.metrics import f1_score, precision_score, recall_score, accuracy_score\n",
    "from sklearn.model_selection import cross_val_predict\n",
    "\n",
    "def metrics(clf, X, Y, t_x, t_y):\n",
    "    pred = cross_val_predict(clf, X, Y, cv=3)\n",
    "    y_pred = clf.predict(t_x)\n",
    "    \n",
    "    print('Accuracy on test set: {:.4%}'.format(accuracy_score(t_y, y_pred)))\n",
    "    print('F1: {:.4%}'.format(f1_score(Y, pred, average=\"macro\")))\n",
    "    print('Precision: {:.4%}'.format(precision_score(Y, pred, average=\"macro\")))\n",
    "    print('Recall: {:.4%}'.format(recall_score(Y, pred, average=\"macro\")))"
   ]
  },
  {
   "cell_type": "markdown",
   "metadata": {},
   "source": [
    "### dataset split"
   ]
  },
  {
   "cell_type": "code",
   "execution_count": 11,
   "metadata": {
    "pycharm": {
     "name": "#%%\n"
    }
   },
   "outputs": [],
   "source": [
    "X = table.drop(columns=['CONT_USAGE'], inplace=False)\n",
    "y = table['CONT_USAGE'].copy()\n",
    "\n",
    "from sklearn.model_selection import train_test_split\n",
    "\n",
    "X_train, X_test, y_train, y_test = train_test_split(X, y, test_size=0.10)"
   ]
  },
  {
   "cell_type": "markdown",
   "metadata": {},
   "source": [
    "### Feature importance"
   ]
  },
  {
   "cell_type": "code",
   "execution_count": 12,
   "metadata": {},
   "outputs": [
    {
     "data": {
      "text/plain": [
       "RandomForestClassifier(random_state=42)"
      ]
     },
     "execution_count": 12,
     "metadata": {},
     "output_type": "execute_result"
    }
   ],
   "source": [
    "from sklearn.ensemble import RandomForestClassifier\n",
    "\n",
    "rnd_clf = RandomForestClassifier(n_estimators=100, random_state=42)\n",
    "rnd_clf.fit(X, y)"
   ]
  },
  {
   "cell_type": "code",
   "execution_count": 13,
   "metadata": {},
   "outputs": [
    {
     "data": {
      "text/plain": [
       "array([0.34904753, 0.08156451, 0.06512604, 0.23857516, 0.03334789,\n",
       "       0.04501532, 0.08325647, 0.08858217, 0.01548491])"
      ]
     },
     "execution_count": 13,
     "metadata": {},
     "output_type": "execute_result"
    }
   ],
   "source": [
    "rnd_clf.feature_importances_"
   ]
  },
  {
   "cell_type": "markdown",
   "metadata": {
    "pycharm": {
     "name": "#%% md\n"
    }
   },
   "source": [
    "## Train model on original data"
   ]
  },
  {
   "cell_type": "markdown",
   "metadata": {
    "pycharm": {
     "name": "#%% md\n"
    }
   },
   "source": [
    "### A lot of classifiers with basic arguments"
   ]
  },
  {
   "cell_type": "code",
   "execution_count": 14,
   "metadata": {
    "pycharm": {
     "name": "#%%\n"
    }
   },
   "outputs": [],
   "source": [
    "from sklearn.metrics import accuracy_score, log_loss\n",
    "from sklearn.neighbors import KNeighborsClassifier\n",
    "from sklearn.svm import SVC, LinearSVC, NuSVC\n",
    "from sklearn.tree import DecisionTreeClassifier\n",
    "from sklearn.ensemble import RandomForestClassifier, AdaBoostClassifier, GradientBoostingClassifier\n",
    "from sklearn.naive_bayes import GaussianNB, MultinomialNB\n",
    "from sklearn.discriminant_analysis import LinearDiscriminantAnalysis, QuadraticDiscriminantAnalysis\n",
    "from sklearn.gaussian_process import GaussianProcessClassifier\n",
    "\n",
    "import seaborn as sns\n",
    "import matplotlib.pyplot as plt\n",
    "\n",
    "def choose_best_clf(X_train, X_test, y_train, y_test):\n",
    "    classifiers = [\n",
    "        KNeighborsClassifier(),\n",
    "        SVC(kernel=\"rbf\", C=0.025, probability=True),\n",
    "        NuSVC(probability=True),\n",
    "        DecisionTreeClassifier(),\n",
    "        RandomForestClassifier(),\n",
    "        AdaBoostClassifier(),\n",
    "        GradientBoostingClassifier(),\n",
    "        GaussianNB(),\n",
    "        GaussianProcessClassifier(),\n",
    "        MultinomialNB(),\n",
    "        LinearDiscriminantAnalysis(),\n",
    "        QuadraticDiscriminantAnalysis(),\n",
    "        ]\n",
    "    \n",
    "    # Logging for Visual Comparison\n",
    "    log_cols=[\"Classifier\", \"Accuracy\", \"Log Loss\"]\n",
    "    log = pd.DataFrame(columns=log_cols)\n",
    "\n",
    "\n",
    "    for clf in classifiers:\n",
    "        name = clf.__class__.__name__\n",
    "        try:\n",
    "            clf.fit(X_train, y_train)\n",
    "            print(\"=\"*30)\n",
    "            print(name)\n",
    "            print('****Results****')\n",
    "            train_predictions = clf.predict(X_test)\n",
    "            acc = accuracy_score(y_test, train_predictions)\n",
    "            print(\"Accuracy: {:.4%}\".format(acc))\n",
    "\n",
    "            train_predictions = clf.predict_proba(X_test)\n",
    "            ll = log_loss(y_test, train_predictions)\n",
    "            print(\"Log Loss: {}\".format(ll))\n",
    "\n",
    "            log_entry = pd.DataFrame([[name, acc*100, ll]], columns=log_cols)\n",
    "            log = log.append(log_entry)\n",
    "        except ValueError:\n",
    "            print(\"=\"*30, '\\n')\n",
    "            print(name, 'cannot be trained')\n",
    "\n",
    "#     print(\"=\"*30)\n",
    "    sns.set_color_codes(\"muted\")\n",
    "    sns.barplot(x='Accuracy', y='Classifier', data=log, color=\"b\")\n",
    "\n",
    "    plt.xlabel('Accuracy %')\n",
    "    plt.title('Classifier Accuracy')\n",
    "    plt.show()\n",
    "\n",
    "    sns.set_color_codes(\"muted\")\n",
    "    sns.barplot(x='Log Loss', y='Classifier', data=log, color=\"g\")\n",
    "\n",
    "    plt.xlabel('Log Loss')\n",
    "    plt.title('Classifier Log Loss')\n",
    "    plt.show()"
   ]
  },
  {
   "cell_type": "code",
   "execution_count": 15,
   "metadata": {},
   "outputs": [
    {
     "name": "stdout",
     "output_type": "stream",
     "text": [
      "==============================\n",
      "KNeighborsClassifier\n",
      "****Results****\n",
      "Accuracy: 48.6486%\n",
      "Log Loss: 3.7948120913580325\n",
      "==============================\n",
      "SVC\n",
      "****Results****\n",
      "Accuracy: 43.9189%\n",
      "Log Loss: 0.9753907527846533\n",
      "==============================\n",
      "NuSVC\n",
      "****Results****\n",
      "Accuracy: 46.6216%\n",
      "Log Loss: 0.9759345498218298\n",
      "==============================\n",
      "DecisionTreeClassifier\n",
      "****Results****\n",
      "Accuracy: 45.2703%\n",
      "Log Loss: 18.000338720267504\n",
      "==============================\n",
      "RandomForestClassifier\n",
      "****Results****\n",
      "Accuracy: 49.3243%\n",
      "Log Loss: 1.3428526739195512\n",
      "==============================\n",
      "AdaBoostClassifier\n",
      "****Results****\n",
      "Accuracy: 47.9730%\n",
      "Log Loss: 1.0768183661466726\n",
      "==============================\n",
      "GradientBoostingClassifier\n",
      "****Results****\n",
      "Accuracy: 49.3243%\n",
      "Log Loss: 0.9805601201897831\n",
      "==============================\n",
      "GaussianNB\n",
      "****Results****\n",
      "Accuracy: 40.5405%\n",
      "Log Loss: 1.372260914460086\n",
      "==============================\n",
      "GaussianProcessClassifier\n",
      "****Results****\n",
      "Accuracy: 51.3514%\n",
      "Log Loss: 1.0549064776424932\n",
      "==============================\n",
      "MultinomialNB\n",
      "****Results****\n",
      "Accuracy: 48.6486%\n",
      "Log Loss: 0.9747658072111113\n",
      "==============================\n",
      "LinearDiscriminantAnalysis\n",
      "****Results****\n",
      "Accuracy: 46.6216%\n",
      "Log Loss: 0.9530412330776717\n",
      "==============================\n",
      "QuadraticDiscriminantAnalysis\n",
      "****Results****\n",
      "Accuracy: 52.0270%\n",
      "Log Loss: 1.096648856301224\n"
     ]
    },
    {
     "data": {
      "image/png": "[encoded data removed]",
      "text/plain": [
       "<Figure size 432x288 with 1 Axes>"
      ]
     },
     "metadata": {
      "needs_background": "light"
     },
     "output_type": "display_data"
    },
    {
     "data": {
      "image/png": "[encoded data removed]",
      "text/plain": [
       "<Figure size 432x288 with 1 Axes>"
      ]
     },
     "metadata": {
      "needs_background": "light"
     },
     "output_type": "display_data"
    }
   ],
   "source": [
    "choose_best_clf(X_train, X_test, y_train, y_test)"
   ]
  },
  {
   "cell_type": "markdown",
   "metadata": {},
   "source": [
    "### Dimensionality reduction on original data"
   ]
  },
  {
   "cell_type": "code",
   "execution_count": 16,
   "metadata": {},
   "outputs": [],
   "source": [
    "from sklearn.decomposition import PCA"
   ]
  },
  {
   "cell_type": "code",
   "execution_count": 17,
   "metadata": {},
   "outputs": [],
   "source": [
    "pca = PCA()\n",
    "pca.fit(X)\n",
    "cumsum = np.cumsum(pca.explained_variance_ratio_)\n",
    "d = np.argmax(cumsum >= 0.95)"
   ]
  },
  {
   "cell_type": "code",
   "execution_count": 18,
   "metadata": {
    "pycharm": {
     "name": "#%%\n"
    }
   },
   "outputs": [
    {
     "data": {
      "text/plain": [
       "1"
      ]
     },
     "execution_count": 18,
     "metadata": {},
     "output_type": "execute_result"
    }
   ],
   "source": [
    "d"
   ]
  },
  {
   "cell_type": "code",
   "execution_count": 19,
   "metadata": {
    "pycharm": {
     "name": "#%%\n"
    }
   },
   "outputs": [
    {
     "data": {
      "image/png": "[encoded data removed]",
      "text/plain": [
       "<Figure size 576x432 with 1 Axes>"
      ]
     },
     "metadata": {
      "needs_background": "light"
     },
     "output_type": "display_data"
    }
   ],
   "source": [
    "%matplotlib inline\n",
    "import matplotlib as mpl\n",
    "import matplotlib.pyplot as plt\n",
    "\n",
    "plt.figure(figsize=(8,6))\n",
    "plt.plot(cumsum, linewidth=3)\n",
    "plt.axis([0, 9, 0, 1])\n",
    "plt.xlabel(\"Dimensions\")\n",
    "plt.ylabel(\"Explained Variance\")\n",
    "plt.plot([d, d], [0, 0.95], \"k:\")\n",
    "plt.plot([0, d], [0.95, 0.95], \"k:\")\n",
    "\n",
    "plt.plot(d, 0.95, \"ko\")\n",
    "plt.grid(True)\n",
    "plt.show()"
   ]
  },
  {
   "cell_type": "code",
   "execution_count": 20,
   "metadata": {
    "pycharm": {
     "name": "#%%\n"
    }
   },
   "outputs": [],
   "source": [
    "pca = PCA(n_components=d)\n",
    "pca.fit(X)\n",
    "X_train_reduced = pca.transform(X_train)\n",
    "X_test_reduced = pca.transform(X_test)\n",
    "\n",
    "# X_recovered = pca.inverse_transform(X_train_reduced_5)"
   ]
  },
  {
   "cell_type": "code",
   "execution_count": 21,
   "metadata": {
    "pycharm": {
     "name": "#%%\n"
    }
   },
   "outputs": [
    {
     "data": {
      "text/plain": [
       "array([[ -3.36920228],\n",
       "       [ -6.5112528 ],\n",
       "       [-11.90953143],\n",
       "       ...,\n",
       "       [  2.73955559],\n",
       "       [  1.26958396],\n",
       "       [ -9.7803559 ]])"
      ]
     },
     "execution_count": 21,
     "metadata": {},
     "output_type": "execute_result"
    }
   ],
   "source": [
    "X_train_reduced"
   ]
  },
  {
   "cell_type": "code",
   "execution_count": 22,
   "metadata": {},
   "outputs": [
    {
     "name": "stdout",
     "output_type": "stream",
     "text": [
      "==============================\n",
      "KNeighborsClassifier\n",
      "****Results****\n",
      "Accuracy: 43.9189%\n",
      "Log Loss: 6.559023310605822\n",
      "==============================\n",
      "SVC\n",
      "****Results****\n",
      "Accuracy: 45.2703%\n",
      "Log Loss: 1.0565714145740448\n",
      "==============================\n",
      "NuSVC\n",
      "****Results****\n",
      "Accuracy: 45.9459%\n",
      "Log Loss: 1.0618829466038602\n",
      "==============================\n",
      "DecisionTreeClassifier\n",
      "****Results****\n",
      "Accuracy: 40.5405%\n",
      "Log Loss: 18.947869444060224\n",
      "==============================\n",
      "RandomForestClassifier\n",
      "****Results****\n",
      "Accuracy: 40.5405%\n",
      "Log Loss: 6.471263026293829\n",
      "==============================\n",
      "AdaBoostClassifier\n",
      "****Results****\n",
      "Accuracy: 39.1892%\n",
      "Log Loss: 1.0949003605438463\n",
      "==============================\n",
      "GradientBoostingClassifier\n",
      "****Results****\n",
      "Accuracy: 42.5676%\n",
      "Log Loss: 1.069908694754096\n",
      "==============================\n",
      "GaussianNB\n",
      "****Results****\n",
      "Accuracy: 50.0000%\n",
      "Log Loss: 1.0177239218671852\n",
      "==============================\n",
      "GaussianProcessClassifier\n",
      "****Results****\n",
      "Accuracy: 36.4865%\n",
      "Log Loss: 1.054071807705116\n",
      "============================== \n",
      "\n",
      "MultinomialNB cannot be trained\n",
      "==============================\n",
      "LinearDiscriminantAnalysis\n",
      "****Results****\n",
      "Accuracy: 50.6757%\n",
      "Log Loss: 1.0255157083047528\n",
      "==============================\n",
      "QuadraticDiscriminantAnalysis\n",
      "****Results****\n",
      "Accuracy: 50.0000%\n",
      "Log Loss: 1.0177715986871854\n"
     ]
    },
    {
     "data": {
      "image/png": "[encoded data removed]",
      "text/plain": [
       "<Figure size 432x288 with 1 Axes>"
      ]
     },
     "metadata": {
      "needs_background": "light"
     },
     "output_type": "display_data"
    },
    {
     "data": {
      "image/png": "[encoded data removed]",
      "text/plain": [
       "<Figure size 432x288 with 1 Axes>"
      ]
     },
     "metadata": {
      "needs_background": "light"
     },
     "output_type": "display_data"
    }
   ],
   "source": [
    "choose_best_clf(X_train_reduced, X_test_reduced, y_train, y_test)"
   ]
  },
  {
   "cell_type": "markdown",
   "metadata": {},
   "source": [
    "## Bucketing(binning) values\n",
    "\n",
    "To produce better results in training I'll bucket continuous variable in to discrete chunks.\n",
    "\n",
    "Let's first explore histogram, to have a rough understanding of how many records we have in each age category"
   ]
  },
  {
   "cell_type": "code",
   "execution_count": 23,
   "metadata": {},
   "outputs": [
    {
     "data": {
      "text/plain": [
       "<matplotlib.axes._subplots.AxesSubplot at 0x1263b7be0>"
      ]
     },
     "execution_count": 23,
     "metadata": {},
     "output_type": "execute_result"
    },
    {
     "data": {
      "image/png": "[encoded data removed]",
      "text/plain": [
       "<Figure size 432x288 with 1 Axes>"
      ]
     },
     "metadata": {
      "needs_background": "light"
     },
     "output_type": "display_data"
    }
   ],
   "source": [
    "table['W_AGE'].hist()"
   ]
  },
  {
   "cell_type": "markdown",
   "metadata": {
    "pycharm": {
     "name": "#%% md\n"
    }
   },
   "source": [
    "Lets bucket in 4 different ranges, to make it more balanced the following ranges are chosen (pretty close to percentiles):\n",
    "\n",
    "`[0, 25], (25, 32], (32, 40], (40, 50]`"
   ]
  },
  {
   "cell_type": "code",
   "execution_count": 24,
   "metadata": {
    "pycharm": {
     "name": "#%%\n"
    }
   },
   "outputs": [
    {
     "data": {
      "image/png": "[encoded data removed]",
      "text/plain": [
       "<Figure size 432x288 with 1 Axes>"
      ]
     },
     "metadata": {
      "needs_background": "light"
     },
     "output_type": "display_data"
    }
   ],
   "source": [
    "bins = [0, 25, 32, 40, 50]\n",
    "labels = [1,2,3,4]\n",
    "\n",
    "table['W_AGE_binned'] = pd.cut(table['W_AGE'], bins=bins, labels=labels)\n",
    "# table = table.astype({'W_AGE_binned' : 'category'})\n",
    "table['W_AGE_binned'].hist()\n",
    "table.drop(columns=['W_AGE'], inplace=True)"
   ]
  },
  {
   "cell_type": "markdown",
   "metadata": {},
   "source": [
    "Now is the time to bucket another discrete valued column. Let's look at number of unique values"
   ]
  },
  {
   "cell_type": "code",
   "execution_count": 25,
   "metadata": {
    "pycharm": {
     "name": "#%%\n"
    }
   },
   "outputs": [
    {
     "data": {
      "text/plain": [
       "2     276\n",
       "1     276\n",
       "3     259\n",
       "4     197\n",
       "5     135\n",
       "0      97\n",
       "6      92\n",
       "7      49\n",
       "8      47\n",
       "9      16\n",
       "11     11\n",
       "10     11\n",
       "12      4\n",
       "13      2\n",
       "16      1\n",
       "Name: NUM_CHILDREN, dtype: int64"
      ]
     },
     "execution_count": 25,
     "metadata": {},
     "output_type": "execute_result"
    }
   ],
   "source": [
    "table['NUM_CHILDREN'].value_counts()"
   ]
  },
  {
   "cell_type": "markdown",
   "metadata": {
    "pycharm": {
     "name": "#%% md\n"
    }
   },
   "source": [
    "Due to bucketing limitations, I'll change all 0s to -1s, so .cut() can still be used"
   ]
  },
  {
   "cell_type": "code",
   "execution_count": 26,
   "metadata": {},
   "outputs": [],
   "source": [
    "table[\"NUM_CHILDREN\"] = table[\"NUM_CHILDREN\"].apply(lambda x: -1 if x == 0 else x)"
   ]
  },
  {
   "cell_type": "markdown",
   "metadata": {
    "pycharm": {
     "name": "#%% md\n"
    }
   },
   "source": [
    "The here I'm going to bucket values according to the real world perspective\n",
    "\n",
    "`[0], [1], [2, 3], [3, 5], [5+]`\n",
    "\n",
    "So we can distinguish families without kids from families with kids, and small families from bigger families. This approach might be usefull for a more extensive research."
   ]
  },
  {
   "cell_type": "code",
   "execution_count": 27,
   "metadata": {},
   "outputs": [
    {
     "data": {
      "image/png": "[encoded data removed]",
      "text/plain": [
       "<Figure size 432x288 with 1 Axes>"
      ]
     },
     "metadata": {
      "needs_background": "light"
     },
     "output_type": "display_data"
    }
   ],
   "source": [
    "bins = [-2, 0, 1, 3, 5, 20]\n",
    "labels = [1,2,3,4, 5]\n",
    "\n",
    "\n",
    "table['NUM_CHILDREN_binned'] = pd.cut(table['NUM_CHILDREN'], bins=bins, labels=labels)\n",
    "# table = table.astype({'W_AGE_binned' : 'category'})\n",
    "table['NUM_CHILDREN_binned'].hist()\n",
    "table.drop(columns=['NUM_CHILDREN'], inplace=True)"
   ]
  },
  {
   "cell_type": "code",
   "execution_count": 28,
   "metadata": {
    "pycharm": {
     "name": "#%%\n"
    }
   },
   "outputs": [
    {
     "name": "stdout",
     "output_type": "stream",
     "text": [
      "<class 'pandas.core.frame.DataFrame'>\n",
      "RangeIndex: 1473 entries, 0 to 1472\n",
      "Data columns (total 10 columns):\n",
      " #   Column               Non-Null Count  Dtype   \n",
      "---  ------               --------------  -----   \n",
      " 0   W_EDU                1473 non-null   category\n",
      " 1   H_EDU                1473 non-null   category\n",
      " 2   W_ISLAM              1473 non-null   bool    \n",
      " 3   W_WORKING            1473 non-null   bool    \n",
      " 4   H_JOB                1473 non-null   category\n",
      " 5   SOL                  1473 non-null   category\n",
      " 6   BAD_MEDIA            1473 non-null   bool    \n",
      " 7   CONT_USAGE           1473 non-null   category\n",
      " 8   W_AGE_binned         1473 non-null   category\n",
      " 9   NUM_CHILDREN_binned  1473 non-null   category\n",
      "dtypes: bool(3), category(7)\n",
      "memory usage: 15.7 KB\n"
     ]
    }
   ],
   "source": [
    "table.info()"
   ]
  },
  {
   "cell_type": "markdown",
   "metadata": {
    "pycharm": {
     "name": "#%% md\n"
    }
   },
   "source": [
    "## Training models on dataset with binned data"
   ]
  },
  {
   "cell_type": "code",
   "execution_count": 29,
   "metadata": {},
   "outputs": [],
   "source": [
    "X = table.drop(columns=['CONT_USAGE'], inplace=False)\n",
    "y = table['CONT_USAGE'].copy()\n",
    "\n",
    "Xb_train, Xb_test, y_train, y_test = train_test_split(X, y, test_size=0.10)"
   ]
  },
  {
   "cell_type": "code",
   "execution_count": 30,
   "metadata": {
    "pycharm": {
     "name": "#%%\n"
    }
   },
   "outputs": [
    {
     "name": "stdout",
     "output_type": "stream",
     "text": [
      "==============================\n",
      "KNeighborsClassifier\n",
      "****Results****\n",
      "Accuracy: 50.6757%\n",
      "Log Loss: 3.7555535001168585\n",
      "==============================\n",
      "SVC\n",
      "****Results****\n",
      "Accuracy: 48.6486%\n",
      "Log Loss: 0.9415688952293617\n",
      "==============================\n",
      "NuSVC\n",
      "****Results****\n",
      "Accuracy: 54.7297%\n",
      "Log Loss: 0.931951816812394\n",
      "==============================\n",
      "DecisionTreeClassifier\n",
      "****Results****\n",
      "Accuracy: 54.0541%\n",
      "Log Loss: 11.455570305946884\n",
      "==============================\n",
      "RandomForestClassifier\n",
      "****Results****\n",
      "Accuracy: 58.7838%\n",
      "Log Loss: 1.0147924047440746\n",
      "==============================\n",
      "AdaBoostClassifier\n",
      "****Results****\n",
      "Accuracy: 54.0541%\n",
      "Log Loss: 1.079324645041227\n",
      "==============================\n",
      "GradientBoostingClassifier\n",
      "****Results****\n",
      "Accuracy: 54.7297%\n",
      "Log Loss: 0.8878524703277783\n",
      "==============================\n",
      "GaussianNB\n",
      "****Results****\n",
      "Accuracy: 47.2973%\n",
      "Log Loss: 1.2006194025031653\n",
      "==============================\n",
      "GaussianProcessClassifier\n",
      "****Results****\n",
      "Accuracy: 57.4324%\n",
      "Log Loss: 0.9549206609032234\n",
      "==============================\n",
      "MultinomialNB\n",
      "****Results****\n",
      "Accuracy: 54.0541%\n",
      "Log Loss: 0.945102281103701\n",
      "==============================\n",
      "LinearDiscriminantAnalysis\n",
      "****Results****\n",
      "Accuracy: 54.7297%\n",
      "Log Loss: 0.9082299170675819\n",
      "==============================\n",
      "QuadraticDiscriminantAnalysis\n",
      "****Results****\n",
      "Accuracy: 53.3784%\n",
      "Log Loss: 1.055588535742657\n"
     ]
    },
    {
     "data": {
      "image/png": "[encoded data removed]",
      "text/plain": [
       "<Figure size 432x288 with 1 Axes>"
      ]
     },
     "metadata": {
      "needs_background": "light"
     },
     "output_type": "display_data"
    },
    {
     "data": {
      "image/png": "[encoded data removed]",
      "text/plain": [
       "<Figure size 432x288 with 1 Axes>"
      ]
     },
     "metadata": {
      "needs_background": "light"
     },
     "output_type": "display_data"
    }
   ],
   "source": [
    "choose_best_clf(Xb_train, Xb_test, y_train, y_test)"
   ]
  },
  {
   "cell_type": "markdown",
   "metadata": {
    "pycharm": {
     "name": "#%% md\n"
    }
   },
   "source": [
    "data bining didn't make much difference, it only made precision/recall scores better"
   ]
  },
  {
   "cell_type": "markdown",
   "metadata": {
    "pycharm": {
     "name": "#%% md\n"
    }
   },
   "source": [
    "### Dimensionality reduction on binned data"
   ]
  },
  {
   "cell_type": "code",
   "execution_count": 31,
   "metadata": {},
   "outputs": [],
   "source": [
    "from sklearn.decomposition import PCA"
   ]
  },
  {
   "cell_type": "code",
   "execution_count": 32,
   "metadata": {
    "pycharm": {
     "name": "#%%\n"
    }
   },
   "outputs": [],
   "source": [
    "pca = PCA()\n",
    "pca.fit(X)\n",
    "cumsum = np.cumsum(pca.explained_variance_ratio_)\n",
    "d = np.argmax(cumsum >= 0.95)"
   ]
  },
  {
   "cell_type": "code",
   "execution_count": 33,
   "metadata": {
    "pycharm": {
     "name": "#%%\n"
    }
   },
   "outputs": [
    {
     "data": {
      "text/plain": [
       "6"
      ]
     },
     "execution_count": 33,
     "metadata": {},
     "output_type": "execute_result"
    }
   ],
   "source": [
    "d"
   ]
  },
  {
   "cell_type": "markdown",
   "metadata": {
    "pycharm": {
     "name": "#%% md\n"
    }
   },
   "source": [
    "Even though it says ther variance above 95% can be achieved with 6 parameters (originally there are 9),\n",
    "but from the following graph we can see, that ~95% variance can be achieved with just 5 parameters, which is almost twice less than in the original data"
   ]
  },
  {
   "cell_type": "code",
   "execution_count": 34,
   "metadata": {
    "pycharm": {
     "name": "#%%\n"
    }
   },
   "outputs": [
    {
     "data": {
      "image/png": "[encoded data removed]",
      "text/plain": [
       "<Figure size 576x432 with 1 Axes>"
      ]
     },
     "metadata": {
      "needs_background": "light"
     },
     "output_type": "display_data"
    }
   ],
   "source": [
    "%matplotlib inline\n",
    "import matplotlib as mpl\n",
    "import matplotlib.pyplot as plt\n",
    "\n",
    "plt.figure(figsize=(8,6))\n",
    "plt.plot(cumsum, linewidth=3)\n",
    "plt.axis([0, 9, 0, 1])\n",
    "plt.xlabel(\"Dimensions\")\n",
    "plt.ylabel(\"Explained Variance\")\n",
    "plt.plot([d, d], [0, 0.95], \"k:\")\n",
    "plt.plot([0, d], [0.95, 0.95], \"k:\")\n",
    "\n",
    "\n",
    "plt.plot([5, 5], [0, 0.95], marker='o', color='b', linestyle=\"--\")\n",
    "plt.plot([0, 5], [0.95, 0.95],color='b', linestyle=\"--\")\n",
    "\n",
    "plt.plot(d, 0.95, \"ko\")\n",
    "plt.annotate(\"Elbow\", xy=(4.5, 0.9), xytext=(6, 0.8),\n",
    "             arrowprops=dict(arrowstyle=\"->\"), fontsize=16)\n",
    "plt.grid(True)\n",
    "plt.show()"
   ]
  },
  {
   "cell_type": "code",
   "execution_count": 35,
   "metadata": {},
   "outputs": [],
   "source": [
    "pca = PCA(n_components=d)\n",
    "pca.fit(X)\n",
    "Xb_train_reduced = pca.transform(Xb_train)\n",
    "Xb_test_reduced = pca.transform(Xb_test)\n"
   ]
  },
  {
   "cell_type": "code",
   "execution_count": 36,
   "metadata": {
    "pycharm": {
     "name": "#%%\n"
    }
   },
   "outputs": [
    {
     "data": {
      "text/plain": [
       "array([[ -3.36920228],\n",
       "       [ -6.5112528 ],\n",
       "       [-11.90953143],\n",
       "       ...,\n",
       "       [  2.73955559],\n",
       "       [  1.26958396],\n",
       "       [ -9.7803559 ]])"
      ]
     },
     "execution_count": 36,
     "metadata": {},
     "output_type": "execute_result"
    }
   ],
   "source": [
    "X_train_reduced"
   ]
  },
  {
   "cell_type": "code",
   "execution_count": 37,
   "metadata": {},
   "outputs": [
    {
     "name": "stdout",
     "output_type": "stream",
     "text": [
      "==============================\n",
      "KNeighborsClassifier\n",
      "****Results****\n",
      "Accuracy: 54.0541%\n",
      "Log Loss: 3.282629750060671\n",
      "==============================\n",
      "SVC\n",
      "****Results****\n",
      "Accuracy: 49.3243%\n",
      "Log Loss: 0.9584195303869694\n",
      "==============================\n",
      "NuSVC\n",
      "****Results****\n",
      "Accuracy: 52.0270%\n",
      "Log Loss: 0.9228888572729498\n",
      "==============================\n",
      "DecisionTreeClassifier\n",
      "****Results****\n",
      "Accuracy: 56.0811%\n",
      "Log Loss: 11.214204563298008\n",
      "==============================\n",
      "RandomForestClassifier\n",
      "****Results****\n",
      "Accuracy: 51.3514%\n",
      "Log Loss: 1.2047016910765\n",
      "==============================\n",
      "AdaBoostClassifier\n",
      "****Results****\n",
      "Accuracy: 56.0811%\n",
      "Log Loss: 1.071385041112866\n",
      "==============================\n",
      "GradientBoostingClassifier\n",
      "****Results****\n",
      "Accuracy: 58.7838%\n",
      "Log Loss: 0.8987588941983775\n",
      "==============================\n",
      "GaussianNB\n",
      "****Results****\n",
      "Accuracy: 54.0541%\n",
      "Log Loss: 0.9147924876486879\n",
      "==============================\n",
      "GaussianProcessClassifier\n",
      "****Results****\n",
      "Accuracy: 56.7568%\n",
      "Log Loss: 0.9359595732025064\n",
      "============================== \n",
      "\n",
      "MultinomialNB cannot be trained\n",
      "==============================\n",
      "LinearDiscriminantAnalysis\n",
      "****Results****\n",
      "Accuracy: 54.0541%\n",
      "Log Loss: 0.9159882678117478\n",
      "==============================\n",
      "QuadraticDiscriminantAnalysis\n",
      "****Results****\n",
      "Accuracy: 50.0000%\n",
      "Log Loss: 0.9397494756075183\n"
     ]
    },
    {
     "data": {
      "image/png": "[encoded data removed]",
      "text/plain": [
       "<Figure size 432x288 with 1 Axes>"
      ]
     },
     "metadata": {
      "needs_background": "light"
     },
     "output_type": "display_data"
    },
    {
     "data": {
      "image/png": "[encoded data removed]",
      "text/plain": [
       "<Figure size 432x288 with 1 Axes>"
      ]
     },
     "metadata": {
      "needs_background": "light"
     },
     "output_type": "display_data"
    }
   ],
   "source": [
    "choose_best_clf(Xb_train_reduced, Xb_test_reduced, y_train, y_test)"
   ]
  },
  {
   "cell_type": "markdown",
   "metadata": {
    "pycharm": {
     "name": "#%% md\n"
    }
   },
   "source": [
    "## One hot encoding binned data set"
   ]
  },
  {
   "cell_type": "code",
   "execution_count": 38,
   "metadata": {
    "pycharm": {
     "name": "#%%\n"
    }
   },
   "outputs": [],
   "source": [
    "encoded_table = pd.get_dummies(table, columns=[\"W_EDU\", \"H_EDU\", \"H_JOB\", \"SOL\", \"W_AGE_binned\", \"NUM_CHILDREN_binned\"])"
   ]
  },
  {
   "cell_type": "code",
   "execution_count": 39,
   "metadata": {},
   "outputs": [
    {
     "data": {
      "text/html": [
       "<div>\n",
       "<style scoped>\n",
       "    .dataframe tbody tr th:only-of-type {\n",
       "        vertical-align: middle;\n",
       "    }\n",
       "\n",
       "    .dataframe tbody tr th {\n",
       "        vertical-align: top;\n",
       "    }\n",
       "\n",
       "    .dataframe thead th {\n",
       "        text-align: right;\n",
       "    }\n",
       "</style>\n",
       "<table border=\"1\" class=\"dataframe\">\n",
       "  <thead>\n",
       "    <tr style=\"text-align: right;\">\n",
       "      <th></th>\n",
       "      <th>W_ISLAM</th>\n",
       "      <th>W_WORKING</th>\n",
       "      <th>BAD_MEDIA</th>\n",
       "      <th>CONT_USAGE</th>\n",
       "      <th>W_EDU_1</th>\n",
       "      <th>W_EDU_2</th>\n",
       "      <th>W_EDU_3</th>\n",
       "      <th>W_EDU_4</th>\n",
       "      <th>H_EDU_1</th>\n",
       "      <th>H_EDU_2</th>\n",
       "      <th>...</th>\n",
       "      <th>SOL_4</th>\n",
       "      <th>W_AGE_binned_1</th>\n",
       "      <th>W_AGE_binned_2</th>\n",
       "      <th>W_AGE_binned_3</th>\n",
       "      <th>W_AGE_binned_4</th>\n",
       "      <th>NUM_CHILDREN_binned_1</th>\n",
       "      <th>NUM_CHILDREN_binned_2</th>\n",
       "      <th>NUM_CHILDREN_binned_3</th>\n",
       "      <th>NUM_CHILDREN_binned_4</th>\n",
       "      <th>NUM_CHILDREN_binned_5</th>\n",
       "    </tr>\n",
       "  </thead>\n",
       "  <tbody>\n",
       "    <tr>\n",
       "      <th>0</th>\n",
       "      <td>True</td>\n",
       "      <td>False</td>\n",
       "      <td>False</td>\n",
       "      <td>1</td>\n",
       "      <td>0</td>\n",
       "      <td>1</td>\n",
       "      <td>0</td>\n",
       "      <td>0</td>\n",
       "      <td>0</td>\n",
       "      <td>0</td>\n",
       "      <td>...</td>\n",
       "      <td>0</td>\n",
       "      <td>1</td>\n",
       "      <td>0</td>\n",
       "      <td>0</td>\n",
       "      <td>0</td>\n",
       "      <td>0</td>\n",
       "      <td>0</td>\n",
       "      <td>1</td>\n",
       "      <td>0</td>\n",
       "      <td>0</td>\n",
       "    </tr>\n",
       "    <tr>\n",
       "      <th>1</th>\n",
       "      <td>True</td>\n",
       "      <td>False</td>\n",
       "      <td>False</td>\n",
       "      <td>1</td>\n",
       "      <td>1</td>\n",
       "      <td>0</td>\n",
       "      <td>0</td>\n",
       "      <td>0</td>\n",
       "      <td>0</td>\n",
       "      <td>0</td>\n",
       "      <td>...</td>\n",
       "      <td>1</td>\n",
       "      <td>0</td>\n",
       "      <td>0</td>\n",
       "      <td>0</td>\n",
       "      <td>1</td>\n",
       "      <td>0</td>\n",
       "      <td>0</td>\n",
       "      <td>0</td>\n",
       "      <td>0</td>\n",
       "      <td>1</td>\n",
       "    </tr>\n",
       "    <tr>\n",
       "      <th>2</th>\n",
       "      <td>True</td>\n",
       "      <td>False</td>\n",
       "      <td>False</td>\n",
       "      <td>1</td>\n",
       "      <td>0</td>\n",
       "      <td>1</td>\n",
       "      <td>0</td>\n",
       "      <td>0</td>\n",
       "      <td>0</td>\n",
       "      <td>0</td>\n",
       "      <td>...</td>\n",
       "      <td>1</td>\n",
       "      <td>0</td>\n",
       "      <td>0</td>\n",
       "      <td>0</td>\n",
       "      <td>1</td>\n",
       "      <td>0</td>\n",
       "      <td>0</td>\n",
       "      <td>0</td>\n",
       "      <td>0</td>\n",
       "      <td>1</td>\n",
       "    </tr>\n",
       "    <tr>\n",
       "      <th>3</th>\n",
       "      <td>True</td>\n",
       "      <td>False</td>\n",
       "      <td>False</td>\n",
       "      <td>1</td>\n",
       "      <td>0</td>\n",
       "      <td>0</td>\n",
       "      <td>1</td>\n",
       "      <td>0</td>\n",
       "      <td>0</td>\n",
       "      <td>1</td>\n",
       "      <td>...</td>\n",
       "      <td>0</td>\n",
       "      <td>0</td>\n",
       "      <td>0</td>\n",
       "      <td>0</td>\n",
       "      <td>1</td>\n",
       "      <td>0</td>\n",
       "      <td>0</td>\n",
       "      <td>0</td>\n",
       "      <td>0</td>\n",
       "      <td>1</td>\n",
       "    </tr>\n",
       "    <tr>\n",
       "      <th>4</th>\n",
       "      <td>True</td>\n",
       "      <td>False</td>\n",
       "      <td>False</td>\n",
       "      <td>1</td>\n",
       "      <td>0</td>\n",
       "      <td>0</td>\n",
       "      <td>1</td>\n",
       "      <td>0</td>\n",
       "      <td>0</td>\n",
       "      <td>0</td>\n",
       "      <td>...</td>\n",
       "      <td>0</td>\n",
       "      <td>0</td>\n",
       "      <td>0</td>\n",
       "      <td>1</td>\n",
       "      <td>0</td>\n",
       "      <td>0</td>\n",
       "      <td>0</td>\n",
       "      <td>0</td>\n",
       "      <td>0</td>\n",
       "      <td>1</td>\n",
       "    </tr>\n",
       "    <tr>\n",
       "      <th>...</th>\n",
       "      <td>...</td>\n",
       "      <td>...</td>\n",
       "      <td>...</td>\n",
       "      <td>...</td>\n",
       "      <td>...</td>\n",
       "      <td>...</td>\n",
       "      <td>...</td>\n",
       "      <td>...</td>\n",
       "      <td>...</td>\n",
       "      <td>...</td>\n",
       "      <td>...</td>\n",
       "      <td>...</td>\n",
       "      <td>...</td>\n",
       "      <td>...</td>\n",
       "      <td>...</td>\n",
       "      <td>...</td>\n",
       "      <td>...</td>\n",
       "      <td>...</td>\n",
       "      <td>...</td>\n",
       "      <td>...</td>\n",
       "      <td>...</td>\n",
       "    </tr>\n",
       "    <tr>\n",
       "      <th>1468</th>\n",
       "      <td>True</td>\n",
       "      <td>True</td>\n",
       "      <td>False</td>\n",
       "      <td>3</td>\n",
       "      <td>0</td>\n",
       "      <td>0</td>\n",
       "      <td>0</td>\n",
       "      <td>1</td>\n",
       "      <td>0</td>\n",
       "      <td>0</td>\n",
       "      <td>...</td>\n",
       "      <td>1</td>\n",
       "      <td>0</td>\n",
       "      <td>0</td>\n",
       "      <td>1</td>\n",
       "      <td>0</td>\n",
       "      <td>0</td>\n",
       "      <td>0</td>\n",
       "      <td>1</td>\n",
       "      <td>0</td>\n",
       "      <td>0</td>\n",
       "    </tr>\n",
       "    <tr>\n",
       "      <th>1469</th>\n",
       "      <td>True</td>\n",
       "      <td>False</td>\n",
       "      <td>False</td>\n",
       "      <td>3</td>\n",
       "      <td>0</td>\n",
       "      <td>0</td>\n",
       "      <td>0</td>\n",
       "      <td>1</td>\n",
       "      <td>0</td>\n",
       "      <td>0</td>\n",
       "      <td>...</td>\n",
       "      <td>1</td>\n",
       "      <td>0</td>\n",
       "      <td>0</td>\n",
       "      <td>1</td>\n",
       "      <td>0</td>\n",
       "      <td>0</td>\n",
       "      <td>0</td>\n",
       "      <td>1</td>\n",
       "      <td>0</td>\n",
       "      <td>0</td>\n",
       "    </tr>\n",
       "    <tr>\n",
       "      <th>1470</th>\n",
       "      <td>True</td>\n",
       "      <td>True</td>\n",
       "      <td>False</td>\n",
       "      <td>3</td>\n",
       "      <td>0</td>\n",
       "      <td>0</td>\n",
       "      <td>1</td>\n",
       "      <td>0</td>\n",
       "      <td>0</td>\n",
       "      <td>0</td>\n",
       "      <td>...</td>\n",
       "      <td>1</td>\n",
       "      <td>0</td>\n",
       "      <td>0</td>\n",
       "      <td>1</td>\n",
       "      <td>0</td>\n",
       "      <td>0</td>\n",
       "      <td>0</td>\n",
       "      <td>0</td>\n",
       "      <td>0</td>\n",
       "      <td>1</td>\n",
       "    </tr>\n",
       "    <tr>\n",
       "      <th>1471</th>\n",
       "      <td>True</td>\n",
       "      <td>True</td>\n",
       "      <td>False</td>\n",
       "      <td>3</td>\n",
       "      <td>0</td>\n",
       "      <td>0</td>\n",
       "      <td>1</td>\n",
       "      <td>0</td>\n",
       "      <td>0</td>\n",
       "      <td>0</td>\n",
       "      <td>...</td>\n",
       "      <td>0</td>\n",
       "      <td>0</td>\n",
       "      <td>0</td>\n",
       "      <td>1</td>\n",
       "      <td>0</td>\n",
       "      <td>0</td>\n",
       "      <td>0</td>\n",
       "      <td>0</td>\n",
       "      <td>1</td>\n",
       "      <td>0</td>\n",
       "    </tr>\n",
       "    <tr>\n",
       "      <th>1472</th>\n",
       "      <td>True</td>\n",
       "      <td>False</td>\n",
       "      <td>False</td>\n",
       "      <td>3</td>\n",
       "      <td>0</td>\n",
       "      <td>0</td>\n",
       "      <td>1</td>\n",
       "      <td>0</td>\n",
       "      <td>0</td>\n",
       "      <td>0</td>\n",
       "      <td>...</td>\n",
       "      <td>1</td>\n",
       "      <td>1</td>\n",
       "      <td>0</td>\n",
       "      <td>0</td>\n",
       "      <td>0</td>\n",
       "      <td>0</td>\n",
       "      <td>1</td>\n",
       "      <td>0</td>\n",
       "      <td>0</td>\n",
       "      <td>0</td>\n",
       "    </tr>\n",
       "  </tbody>\n",
       "</table>\n",
       "<p>1473 rows × 29 columns</p>\n",
       "</div>"
      ],
      "text/plain": [
       "      W_ISLAM  W_WORKING  BAD_MEDIA CONT_USAGE  W_EDU_1  W_EDU_2  W_EDU_3  \\\n",
       "0        True      False      False          1        0        1        0   \n",
       "1        True      False      False          1        1        0        0   \n",
       "2        True      False      False          1        0        1        0   \n",
       "3        True      False      False          1        0        0        1   \n",
       "4        True      False      False          1        0        0        1   \n",
       "...       ...        ...        ...        ...      ...      ...      ...   \n",
       "1468     True       True      False          3        0        0        0   \n",
       "1469     True      False      False          3        0        0        0   \n",
       "1470     True       True      False          3        0        0        1   \n",
       "1471     True       True      False          3        0        0        1   \n",
       "1472     True      False      False          3        0        0        1   \n",
       "\n",
       "      W_EDU_4  H_EDU_1  H_EDU_2  ...  SOL_4  W_AGE_binned_1  W_AGE_binned_2  \\\n",
       "0           0        0        0  ...      0               1               0   \n",
       "1           0        0        0  ...      1               0               0   \n",
       "2           0        0        0  ...      1               0               0   \n",
       "3           0        0        1  ...      0               0               0   \n",
       "4           0        0        0  ...      0               0               0   \n",
       "...       ...      ...      ...  ...    ...             ...             ...   \n",
       "1468        1        0        0  ...      1               0               0   \n",
       "1469        1        0        0  ...      1               0               0   \n",
       "1470        0        0        0  ...      1               0               0   \n",
       "1471        0        0        0  ...      0               0               0   \n",
       "1472        0        0        0  ...      1               1               0   \n",
       "\n",
       "      W_AGE_binned_3  W_AGE_binned_4  NUM_CHILDREN_binned_1  \\\n",
       "0                  0               0                      0   \n",
       "1                  0               1                      0   \n",
       "2                  0               1                      0   \n",
       "3                  0               1                      0   \n",
       "4                  1               0                      0   \n",
       "...              ...             ...                    ...   \n",
       "1468               1               0                      0   \n",
       "1469               1               0                      0   \n",
       "1470               1               0                      0   \n",
       "1471               1               0                      0   \n",
       "1472               0               0                      0   \n",
       "\n",
       "      NUM_CHILDREN_binned_2  NUM_CHILDREN_binned_3  NUM_CHILDREN_binned_4  \\\n",
       "0                         0                      1                      0   \n",
       "1                         0                      0                      0   \n",
       "2                         0                      0                      0   \n",
       "3                         0                      0                      0   \n",
       "4                         0                      0                      0   \n",
       "...                     ...                    ...                    ...   \n",
       "1468                      0                      1                      0   \n",
       "1469                      0                      1                      0   \n",
       "1470                      0                      0                      0   \n",
       "1471                      0                      0                      1   \n",
       "1472                      1                      0                      0   \n",
       "\n",
       "      NUM_CHILDREN_binned_5  \n",
       "0                         0  \n",
       "1                         1  \n",
       "2                         1  \n",
       "3                         1  \n",
       "4                         1  \n",
       "...                     ...  \n",
       "1468                      0  \n",
       "1469                      0  \n",
       "1470                      1  \n",
       "1471                      0  \n",
       "1472                      0  \n",
       "\n",
       "[1473 rows x 29 columns]"
      ]
     },
     "execution_count": 39,
     "metadata": {},
     "output_type": "execute_result"
    }
   ],
   "source": [
    "encoded_table"
   ]
  },
  {
   "cell_type": "code",
   "execution_count": 40,
   "metadata": {
    "pycharm": {
     "name": "#%%\n"
    }
   },
   "outputs": [],
   "source": [
    "X = encoded_table.drop(columns=['CONT_USAGE'], inplace=False)\n",
    "y = encoded_table['CONT_USAGE'].copy()\n",
    "\n",
    "Xe_train, Xe_test, y_train, y_test = train_test_split(X, y, test_size=0.10)"
   ]
  },
  {
   "cell_type": "code",
   "execution_count": 41,
   "metadata": {},
   "outputs": [
    {
     "name": "stdout",
     "output_type": "stream",
     "text": [
      "==============================\n",
      "KNeighborsClassifier\n",
      "****Results****\n",
      "Accuracy: 49.3243%\n",
      "Log Loss: 4.705203518678691\n",
      "==============================\n",
      "SVC\n",
      "****Results****\n",
      "Accuracy: 45.9459%\n",
      "Log Loss: 0.9874166790836346\n",
      "==============================\n",
      "NuSVC\n",
      "****Results****\n",
      "Accuracy: 52.0270%\n",
      "Log Loss: 0.9973041700936793\n",
      "==============================\n",
      "DecisionTreeClassifier\n",
      "****Results****\n",
      "Accuracy: 45.9459%\n",
      "Log Loss: 13.57258173165127\n",
      "==============================\n",
      "RandomForestClassifier\n",
      "****Results****\n",
      "Accuracy: 52.0270%\n",
      "Log Loss: 2.202999862602944\n",
      "==============================\n",
      "AdaBoostClassifier\n",
      "****Results****\n",
      "Accuracy: 56.0811%\n",
      "Log Loss: 1.0778010696408808\n",
      "==============================\n",
      "GradientBoostingClassifier\n",
      "****Results****\n",
      "Accuracy: 57.4324%\n",
      "Log Loss: 0.9425907120245222\n",
      "==============================\n",
      "GaussianNB\n",
      "****Results****\n",
      "Accuracy: 40.5405%\n",
      "Log Loss: 5.91137361922293\n",
      "==============================\n",
      "GaussianProcessClassifier\n",
      "****Results****\n",
      "Accuracy: 52.7027%\n",
      "Log Loss: 1.0056732588877944\n",
      "==============================\n",
      "MultinomialNB\n",
      "****Results****\n",
      "Accuracy: 50.0000%\n",
      "Log Loss: 1.0169783808918313\n",
      "==============================\n",
      "LinearDiscriminantAnalysis\n",
      "****Results****\n",
      "Accuracy: 56.7568%\n",
      "Log Loss: 0.9424601105522454\n",
      "==============================\n",
      "QuadraticDiscriminantAnalysis\n",
      "****Results****\n",
      "Accuracy: 36.4865%\n",
      "Log Loss: 18.858169368640777\n"
     ]
    },
    {
     "name": "stderr",
     "output_type": "stream",
     "text": [
      "/Users/Alexey/miniconda3/envs/data_mining/lib/python3.8/site-packages/sklearn/discriminant_analysis.py:715: UserWarning: Variables are collinear\n",
      "  warnings.warn(\"Variables are collinear\")\n"
     ]
    },
    {
     "data": {
      "image/png": "[encoded data removed]",
      "text/plain": [
       "<Figure size 432x288 with 1 Axes>"
      ]
     },
     "metadata": {
      "needs_background": "light"
     },
     "output_type": "display_data"
    },
    {
     "data": {
      "image/png": "[encoded data removed]",
      "text/plain": [
       "<Figure size 432x288 with 1 Axes>"
      ]
     },
     "metadata": {
      "needs_background": "light"
     },
     "output_type": "display_data"
    }
   ],
   "source": [
    "choose_best_clf(Xe_train, Xe_test, y_train, y_test)"
   ]
  },
  {
   "cell_type": "markdown",
   "metadata": {
    "pycharm": {
     "name": "#%% md\n"
    }
   },
   "source": [
    "### XGBoost models"
   ]
  },
  {
   "cell_type": "code",
   "execution_count": 42,
   "metadata": {
    "pycharm": {
     "name": "#%%\n"
    }
   },
   "outputs": [],
   "source": [
    "from xgboost import XGBClassifier"
   ]
  },
  {
   "cell_type": "code",
   "execution_count": 43,
   "metadata": {
    "pycharm": {
     "name": "#%%\n"
    }
   },
   "outputs": [
    {
     "name": "stdout",
     "output_type": "stream",
     "text": [
      "[00:42:00] WARNING: /Users/travis/build/dmlc/xgboost/src/learner.cc:485: \n",
      "Parameters: { silent, tree } might not be used.\n",
      "\n",
      "  This may not be accurate due to some parameters are only used in language bindings but\n",
      "  passed down to XGBoost core.  Or some parameters are not used but slip through this\n",
      "  verification. Please open an issue if you find above cases.\n",
      "\n",
      "\n"
     ]
    },
    {
     "data": {
      "text/plain": [
       "XGBClassifier(base_score=0.5, booster='gbtree', colsample_bylevel=1,\n",
       "              colsample_bynode=1, colsample_bytree=0.6, gamma=5, gpu_id=-1,\n",
       "              importance_type='gain', interaction_constraints='',\n",
       "              learning_rate=0.001, max_delta_step=0, max_depth=3,\n",
       "              min_child_weight=1, missing=nan, monotone_constraints='()',\n",
       "              n_estimators=3000, n_jobs=0, num_parallel_tree=1,\n",
       "              objective='multi:softprob', random_state=0, reg_alpha=0,\n",
       "              reg_lambda=1, scale_pos_weight=None, silent=True, subsample=0.6,\n",
       "              tree='hist', tree_method='exact', validate_parameters=1,\n",
       "              verbosity=None)"
      ]
     },
     "execution_count": 43,
     "metadata": {},
     "output_type": "execute_result"
    }
   ],
   "source": [
    "# fit model no training data\n",
    "xgb = XGBClassifier(learning_rate=0.001, \n",
    "                    n_estimators=3000,\n",
    "                    gamma=5,\n",
    "                    max_depth=3,\n",
    "                    colsample_bytree=0.6,\n",
    "                    min_child_weight=1,\n",
    "                    subsample=0.6,\n",
    "                    objective='multi:softmax',\n",
    "                    silent=True,\n",
    "                    tree='hist'\n",
    "                   )\n",
    "xgb.fit(Xe_train, y_train)"
   ]
  },
  {
   "cell_type": "code",
   "execution_count": 44,
   "metadata": {},
   "outputs": [
    {
     "name": "stdout",
     "output_type": "stream",
     "text": [
      "[00:42:03] WARNING: /Users/travis/build/dmlc/xgboost/src/learner.cc:485: \n",
      "Parameters: { silent, tree } might not be used.\n",
      "\n",
      "  This may not be accurate due to some parameters are only used in language bindings but\n",
      "  passed down to XGBoost core.  Or some parameters are not used but slip through this\n",
      "  verification. Please open an issue if you find above cases.\n",
      "\n",
      "\n",
      "[00:42:05] WARNING: /Users/travis/build/dmlc/xgboost/src/learner.cc:485: \n",
      "Parameters: { silent, tree } might not be used.\n",
      "\n",
      "  This may not be accurate due to some parameters are only used in language bindings but\n",
      "  passed down to XGBoost core.  Or some parameters are not used but slip through this\n",
      "  verification. Please open an issue if you find above cases.\n",
      "\n",
      "\n",
      "[00:42:07] WARNING: /Users/travis/build/dmlc/xgboost/src/learner.cc:485: \n",
      "Parameters: { silent, tree } might not be used.\n",
      "\n",
      "  This may not be accurate due to some parameters are only used in language bindings but\n",
      "  passed down to XGBoost core.  Or some parameters are not used but slip through this\n",
      "  verification. Please open an issue if you find above cases.\n",
      "\n",
      "\n",
      "Accuracy on test set: 54.0541%\n",
      "F1: 43.8714%\n",
      "Precision: 50.3511%\n",
      "Recall: 44.9758%\n"
     ]
    }
   ],
   "source": [
    "metrics(xgb, Xe_train, y_train, Xe_test, y_test)"
   ]
  },
  {
   "cell_type": "markdown",
   "metadata": {
    "jupyter": {
     "outputs_hidden": false
    },
    "pycharm": {
     "name": "#%%\n"
    }
   },
   "source": [
    "## Neural Network"
   ]
  },
  {
   "cell_type": "code",
   "execution_count": 45,
   "metadata": {},
   "outputs": [],
   "source": [
    "from sklearn.neural_network import MLPClassifier\n"
   ]
  },
  {
   "cell_type": "code",
   "execution_count": 46,
   "metadata": {
    "pycharm": {
     "name": "#%%\n"
    }
   },
   "outputs": [],
   "source": [
    "mlp_clf = MLPClassifier(random_state=1, max_iter=300)"
   ]
  },
  {
   "cell_type": "markdown",
   "metadata": {},
   "source": [
    "#### training on original non-binned non-reduced data"
   ]
  },
  {
   "cell_type": "code",
   "execution_count": 47,
   "metadata": {
    "pycharm": {
     "name": "#%%\n"
    }
   },
   "outputs": [
    {
     "data": {
      "text/plain": [
       "MLPClassifier(max_iter=300, random_state=1)"
      ]
     },
     "execution_count": 47,
     "metadata": {},
     "output_type": "execute_result"
    }
   ],
   "source": [
    "mlp_clf.fit(X_train, y_train)"
   ]
  },
  {
   "cell_type": "code",
   "execution_count": 48,
   "metadata": {},
   "outputs": [
    {
     "data": {
      "text/plain": [
       "array([[0.54075737, 0.25383141, 0.20541121]])"
      ]
     },
     "execution_count": 48,
     "metadata": {},
     "output_type": "execute_result"
    }
   ],
   "source": [
    "mlp_clf.predict_proba(X_test[:1])"
   ]
  },
  {
   "cell_type": "code",
   "execution_count": 49,
   "metadata": {
    "pycharm": {
     "name": "#%%\n"
    }
   },
   "outputs": [
    {
     "data": {
      "text/plain": [
       "0.49324324324324326"
      ]
     },
     "execution_count": 49,
     "metadata": {},
     "output_type": "execute_result"
    }
   ],
   "source": [
    "mlp_clf.score(X_test, y_test)"
   ]
  },
  {
   "cell_type": "markdown",
   "metadata": {},
   "source": [
    "#### On reduced data"
   ]
  },
  {
   "cell_type": "code",
   "execution_count": 50,
   "metadata": {},
   "outputs": [
    {
     "data": {
      "text/plain": [
       "0.4189189189189189"
      ]
     },
     "execution_count": 50,
     "metadata": {},
     "output_type": "execute_result"
    }
   ],
   "source": [
    "mlp_clf = MLPClassifier(random_state=1, max_iter=500)\n",
    "mlp_clf.fit(X_train_reduced, y_train)\n",
    "mlp_clf.score(X_test_reduced, y_test)"
   ]
  },
  {
   "cell_type": "markdown",
   "metadata": {},
   "source": [
    "#### On binned data"
   ]
  },
  {
   "cell_type": "code",
   "execution_count": 51,
   "metadata": {},
   "outputs": [
    {
     "data": {
      "text/plain": [
       "0.39864864864864863"
      ]
     },
     "execution_count": 51,
     "metadata": {},
     "output_type": "execute_result"
    }
   ],
   "source": [
    "mlp_clf = MLPClassifier(random_state=1, max_iter=700)\n",
    "mlp_clf.fit(Xb_train, y_train)\n",
    "mlp_clf.score(Xb_test, y_test)"
   ]
  },
  {
   "cell_type": "markdown",
   "metadata": {},
   "source": [
    "#### On binned reduced data"
   ]
  },
  {
   "cell_type": "code",
   "execution_count": 52,
   "metadata": {},
   "outputs": [
    {
     "data": {
      "text/plain": [
       "0.3581081081081081"
      ]
     },
     "execution_count": 52,
     "metadata": {},
     "output_type": "execute_result"
    }
   ],
   "source": [
    "mlp_clf = MLPClassifier(random_state=1, max_iter=1500)\n",
    "mlp_clf.fit(Xb_train_reduced, y_train)\n",
    "mlp_clf.score(Xb_test_reduced, y_test)\n"
   ]
  },
  {
   "cell_type": "markdown",
   "metadata": {},
   "source": [
    "#### On hot ohe encoded data"
   ]
  },
  {
   "cell_type": "code",
   "execution_count": 53,
   "metadata": {},
   "outputs": [
    {
     "data": {
      "text/plain": [
       "0.4527027027027027"
      ]
     },
     "execution_count": 53,
     "metadata": {},
     "output_type": "execute_result"
    }
   ],
   "source": [
    "mlp_clf = MLPClassifier(random_state=1, max_iter=1000)\n",
    "mlp_clf.fit(Xe_train, y_train)\n",
    "mlp_clf.score(Xe_test, y_test)"
   ]
  },
  {
   "cell_type": "code",
   "execution_count": null,
   "metadata": {},
   "outputs": [],
   "source": []
  }
 ],
 "metadata": {
  "kernelspec": {
   "display_name": "data_mining",
   "language": "python",
   "name": "data_mining"
  },
  "language_info": {
   "codemirror_mode": {
    "name": "ipython",
    "version": 3
   },
   "file_extension": ".py",
   "mimetype": "text/x-python",
   "name": "python",
   "nbconvert_exporter": "python",
   "pygments_lexer": "ipython3",
   "version": "3.8.2"
  },
  "pycharm": {
   "stem_cell": {
    "cell_type": "raw",
    "metadata": {
     "collapsed": false
    },
    "source": []
   }
  }
 },
 "nbformat": 4,
 "nbformat_minor": 4
}
